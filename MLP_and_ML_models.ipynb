{
  "nbformat": 4,
  "nbformat_minor": 0,
  "metadata": {
    "kernelspec": {
      "display_name": "Python 3",
      "language": "python",
      "name": "python3"
    },
    "language_info": {
      "codemirror_mode": {
        "name": "ipython",
        "version": 3
      },
      "file_extension": ".py",
      "mimetype": "text/x-python",
      "name": "python",
      "nbconvert_exporter": "python",
      "pygments_lexer": "ipython3",
      "version": "3.8.3"
    },
    "colab": {
      "name": "MLP and ML models.ipynb",
      "provenance": [],
      "collapsed_sections": []
    },
    "accelerator": "GPU"
  },
  "cells": [
    {
      "cell_type": "code",
      "metadata": {
        "id": "RyuRz35ozv6l"
      },
      "source": [
        "import numpy as np\n",
        "import pandas as pd\n",
        "from sklearn.model_selection import train_test_split\n",
        "from sklearn.preprocessing import LabelEncoder \n",
        "from sklearn.linear_model import LogisticRegression\n",
        "from sklearn.metrics import roc_auc_score\n",
        "from sklearn.preprocessing import MinMaxScaler\n",
        "import warnings\n",
        "warnings.filterwarnings(\"ignore\")\n",
        "from sklearn.ensemble import RandomForestClassifier\n",
        "import xgboost as xgb1\n",
        "from xgboost import XGBClassifier"
      ],
      "execution_count": 1,
      "outputs": []
    },
    {
      "cell_type": "code",
      "metadata": {
        "id": "DwURWiSCzv6m"
      },
      "source": [
        "train_data=pd.read_csv(\"train_s3TEQDk.csv\")\n",
        "test_data=pd.read_csv(\"test_mSzZ8RL.csv\")"
      ],
      "execution_count": 2,
      "outputs": []
    },
    {
      "cell_type": "code",
      "metadata": {
        "id": "6l3zaykxzv6n"
      },
      "source": [
        "X_train = train_data.drop(['ID','Is_Lead'], axis=1)\n",
        "Y_train = train_data['Is_Lead'].values\n",
        "X_test_data=test_data.drop(['ID'],axis=1)"
      ],
      "execution_count": 3,
      "outputs": []
    },
    {
      "cell_type": "code",
      "metadata": {
        "id": "Y3qIRp6Szv6n"
      },
      "source": [
        "X_train,X_test,y_train,y_test=train_test_split(X_train,Y_train,test_size = 0.2,random_state=42)"
      ],
      "execution_count": 4,
      "outputs": []
    },
    {
      "cell_type": "code",
      "metadata": {
        "id": "FKDw7zjxzv6o"
      },
      "source": [
        "X_train['Credit_Product'].fillna('Missing',inplace=True)\n",
        "X_test['Credit_Product'].fillna('Missing',inplace=True)\n",
        "X_test_data['Credit_Product'].fillna('Missing',inplace=True)"
      ],
      "execution_count": 5,
      "outputs": []
    },
    {
      "cell_type": "code",
      "metadata": {
        "id": "FW2AnTd5zv6o"
      },
      "source": [
        "#Doing Label Encoding to our Categeorical features for train_data\n",
        "label_encoder=LabelEncoder()\n",
        "X_train['Gender']=label_encoder.fit_transform(X_train['Gender'])\n",
        "X_test['Gender']=label_encoder.fit_transform(X_test['Gender'])\n",
        "X_test_data['Gender']=label_encoder.fit_transform(X_test_data['Gender'])\n",
        "\n",
        "X_train['Region_Code']=label_encoder.fit_transform(X_train['Region_Code'])\n",
        "X_test['Region_Code']=label_encoder.fit_transform(X_test['Region_Code'])\n",
        "X_test_data['Region_Code']=label_encoder.fit_transform(X_test_data['Region_Code'])\n",
        "\n",
        "X_train['Occupation']=label_encoder.fit_transform(X_train['Occupation'])\n",
        "X_test['Occupation']=label_encoder.fit_transform(X_test['Occupation'])\n",
        "X_test_data['Occupation']=label_encoder.fit_transform(X_test_data['Occupation'])\n",
        "\n",
        "X_train['Channel_Code']=label_encoder.fit_transform(X_train['Channel_Code'])\n",
        "X_test['Channel_Code']=label_encoder.fit_transform(X_test['Channel_Code'])\n",
        "X_test_data['Channel_Code']=label_encoder.fit_transform(X_test_data['Channel_Code'])\n",
        "\n",
        "X_train['Credit_Product']=label_encoder.fit_transform(X_train['Credit_Product'])\n",
        "X_test['Credit_Product']=label_encoder.fit_transform(X_test['Credit_Product'])\n",
        "X_test_data['Credit_Product']=label_encoder.fit_transform(X_test_data['Credit_Product'])\n",
        "\n",
        "X_train['Is_Active']=label_encoder.fit_transform(X_train['Is_Active'])\n",
        "X_test['Is_Active']=label_encoder.fit_transform(X_test['Is_Active'])\n",
        "X_test_data['Is_Active']=label_encoder.fit_transform(X_test_data['Is_Active'])"
      ],
      "execution_count": 6,
      "outputs": []
    },
    {
      "cell_type": "code",
      "metadata": {
        "id": "wdKI5q7Bzv6p"
      },
      "source": [
        "scaling=MinMaxScaler()\n",
        "X_train[['Age','Vintage','Avg_Account_Balance']]=scaling.fit_transform(X_train[['Age','Vintage','Avg_Account_Balance']])\n",
        "X_test[['Age','Vintage','Avg_Account_Balance']]=scaling.fit_transform(X_test[['Age','Vintage','Avg_Account_Balance']])\n",
        "X_test_data[['Age','Vintage','Avg_Account_Balance']]=scaling.fit_transform(X_test_data[['Age','Vintage','Avg_Account_Balance']])"
      ],
      "execution_count": 7,
      "outputs": []
    },
    {
      "cell_type": "markdown",
      "metadata": {
        "id": "K-bVREvhzv6q"
      },
      "source": [
        "#### a.LogisticRegression"
      ]
    },
    {
      "cell_type": "code",
      "metadata": {
        "id": "srjYVfy1zv6q",
        "outputId": "ba657fd8-2242-475d-cecd-046a0140c4ae"
      },
      "source": [
        "model1 = LogisticRegression()\n",
        "model1.fit(X_train, y_train)\n",
        "pred_prob1 = model1.predict_proba(X_test)\n",
        "auc_score1 = roc_auc_score(y_test, pred_prob1[:,1])\n",
        "print(auc_score1)"
      ],
      "execution_count": null,
      "outputs": [
        {
          "output_type": "stream",
          "text": [
            "0.7256740410848981\n"
          ],
          "name": "stdout"
        }
      ]
    },
    {
      "cell_type": "code",
      "metadata": {
        "id": "6z2x6stkzv6r"
      },
      "source": [
        "predictions_on_test_data=model1.predict(X_test_data)\n",
        "submission=pd.read_csv(\"sample_submission_eyYijxG.csv\")\n",
        "submission['Is_Lead']=predictions_on_test_data\n",
        "submission.to_csv('submissions_hackathon/LE_mms_logitic_regression_submission.csv',index=False)"
      ],
      "execution_count": null,
      "outputs": []
    },
    {
      "cell_type": "markdown",
      "metadata": {
        "id": "3NMLsqtozv6r"
      },
      "source": [
        "#### b.Random Forest Classifier"
      ]
    },
    {
      "cell_type": "code",
      "metadata": {
        "id": "joQiSNLqzv6r",
        "outputId": "e2b26539-9c88-47c5-b27d-79302f177ded"
      },
      "source": [
        "alpha=[10,50,100,500,1000,2000]\n",
        "cv_log_error_array=[]\n",
        "for i in alpha:\n",
        "    model2=RandomForestClassifier(n_estimators=i,random_state=24,n_jobs=-1)\n",
        "    model2.fit(X_train,y_train)\n",
        "    pred_prob2 = model2.predict_proba(X_test)\n",
        "    auc_score2 = roc_auc_score(y_test, pred_prob2[:,1])\n",
        "    print(i)\n",
        "    print(\"Roc_score=\",auc_score2)"
      ],
      "execution_count": null,
      "outputs": [
        {
          "output_type": "stream",
          "text": [
            "10\n",
            "Roc_score= 0.8335547550267097\n",
            "50\n",
            "Roc_score= 0.8495813765275008\n",
            "100\n",
            "Roc_score= 0.8522954765343789\n",
            "500\n",
            "Roc_score= 0.8543893516289519\n",
            "1000\n",
            "Roc_score= 0.854936619895912\n",
            "2000\n",
            "Roc_score= 0.8550563587591994\n"
          ],
          "name": "stdout"
        }
      ]
    },
    {
      "cell_type": "code",
      "metadata": {
        "id": "7S5OUkCkzv6s",
        "outputId": "8427a34f-1ae0-4767-9d32-5916e4142b70"
      },
      "source": [
        "model2 = RandomForestClassifier(n_estimators=2000)\n",
        "model2.fit(X_train, y_train)\n",
        "pred_prob2 = model2.predict_proba(X_test)\n",
        "auc_score2 = roc_auc_score(y_test, pred_prob2[:,1])\n",
        "print(auc_score2)"
      ],
      "execution_count": null,
      "outputs": [
        {
          "output_type": "stream",
          "text": [
            "0.8547065352958708\n"
          ],
          "name": "stdout"
        }
      ]
    },
    {
      "cell_type": "code",
      "metadata": {
        "id": "_4G4r2iTzv6s"
      },
      "source": [
        "predictions_on_test_data2=model2.predict(X_test_data)\n",
        "submission=pd.read_csv(\"sample_submission_eyYijxG.csv\")\n",
        "submission['Is_Lead']=predictions_on_test_data2\n",
        "submission.to_csv('submissions_hackathon/LE_mms_Random_Forest_submission.csv',index=False)"
      ],
      "execution_count": null,
      "outputs": []
    },
    {
      "cell_type": "markdown",
      "metadata": {
        "id": "tjsw0yfnzv6s"
      },
      "source": [
        "#### XGBoost"
      ]
    },
    {
      "cell_type": "code",
      "metadata": {
        "id": "JVfIRkDfzv6t",
        "outputId": "a26bee21-c3b9-4881-f14b-11d6f5259632"
      },
      "source": [
        "model3 =XGBClassifier(subsample=1,n_estimators=1000,min_child_weight=7,max_depth=5,learning_rate=0.01,\n",
        "                      colsample_bytree=1)\n",
        "model3.fit(X_train,y_train)\n",
        "pred_prob3 = model3.predict_proba(X_test)\n",
        "auc_score3 = roc_auc_score(y_test, pred_prob3[:,1])\n",
        "print(auc_score3)"
      ],
      "execution_count": null,
      "outputs": [
        {
          "output_type": "stream",
          "text": [
            "0.8714234782309651\n"
          ],
          "name": "stdout"
        }
      ]
    },
    {
      "cell_type": "code",
      "metadata": {
        "id": "4OP5jtKdzv6t"
      },
      "source": [
        "predictions_on_test_data2=model3.predict(X_test_data)\n",
        "submission=pd.read_csv(\"sample_submission_eyYijxG.csv\")\n",
        "submission['Is_Lead']=predictions_on_test_data2\n",
        "submission.to_csv('submissions_hackathon/XGB_MMS_LE_submission.csv',index=False)"
      ],
      "execution_count": null,
      "outputs": []
    },
    {
      "cell_type": "markdown",
      "metadata": {
        "id": "gmOVafKYzv6u"
      },
      "source": [
        "#### MLP"
      ]
    },
    {
      "cell_type": "code",
      "metadata": {
        "id": "peGhRcrFzv6u"
      },
      "source": [
        "import tensorflow as tf \n",
        "from tensorflow.keras.layers import Dense\n",
        "from tensorflow.keras.layers import BatchNormalization\n",
        "from tensorflow.keras.layers import PReLU,Dropout\n",
        "from tensorflow.keras import Sequential\n",
        "from keras.callbacks import Callback"
      ],
      "execution_count": 8,
      "outputs": []
    },
    {
      "cell_type": "code",
      "metadata": {
        "id": "EvrRvDfazv6u"
      },
      "source": [
        "model = Sequential()\n",
        "model.add(Dense(400, input_dim = X_train.shape[1], kernel_initializer = 'he_normal'))\n",
        "model.add(PReLU())\n",
        "model.add(BatchNormalization())\n",
        "model.add(Dropout(0.4))\n",
        "model.add(Dense(200, kernel_initializer='he_normal'))\n",
        "model.add(PReLU())\n",
        "model.add(BatchNormalization())    \n",
        "model.add(Dropout(0.2))\n",
        "model.add(Dense(50, kernel_initializer = 'he_normal'))\n",
        "model.add(PReLU())\n",
        "model.add(BatchNormalization())    \n",
        "model.add(Dropout(0.2))\n",
        "model.add(Dense(1, kernel_initializer = 'he_normal'))\n",
        "model.compile(optimizer='adam',loss=tf.keras.losses.BinaryCrossentropy(from_logits=True),metrics=[tf.keras.metrics.AUC(from_logits=True)])"
      ],
      "execution_count": 9,
      "outputs": []
    },
    {
      "cell_type": "code",
      "metadata": {
        "colab": {
          "base_uri": "https://localhost:8080/"
        },
        "id": "okug6V0mzv6u",
        "outputId": "f10f124e-02ab-4d62-ac5c-bbbfb7b3de61"
      },
      "source": [
        "model.summary()"
      ],
      "execution_count": 10,
      "outputs": [
        {
          "output_type": "stream",
          "text": [
            "Model: \"sequential\"\n",
            "_________________________________________________________________\n",
            "Layer (type)                 Output Shape              Param #   \n",
            "=================================================================\n",
            "dense (Dense)                (None, 400)               4000      \n",
            "_________________________________________________________________\n",
            "p_re_lu (PReLU)              (None, 400)               400       \n",
            "_________________________________________________________________\n",
            "batch_normalization (BatchNo (None, 400)               1600      \n",
            "_________________________________________________________________\n",
            "dropout (Dropout)            (None, 400)               0         \n",
            "_________________________________________________________________\n",
            "dense_1 (Dense)              (None, 200)               80200     \n",
            "_________________________________________________________________\n",
            "p_re_lu_1 (PReLU)            (None, 200)               200       \n",
            "_________________________________________________________________\n",
            "batch_normalization_1 (Batch (None, 200)               800       \n",
            "_________________________________________________________________\n",
            "dropout_1 (Dropout)          (None, 200)               0         \n",
            "_________________________________________________________________\n",
            "dense_2 (Dense)              (None, 50)                10050     \n",
            "_________________________________________________________________\n",
            "p_re_lu_2 (PReLU)            (None, 50)                50        \n",
            "_________________________________________________________________\n",
            "batch_normalization_2 (Batch (None, 50)                200       \n",
            "_________________________________________________________________\n",
            "dropout_2 (Dropout)          (None, 50)                0         \n",
            "_________________________________________________________________\n",
            "dense_3 (Dense)              (None, 1)                 51        \n",
            "=================================================================\n",
            "Total params: 97,551\n",
            "Trainable params: 96,251\n",
            "Non-trainable params: 1,300\n",
            "_________________________________________________________________\n"
          ],
          "name": "stdout"
        }
      ]
    },
    {
      "cell_type": "code",
      "metadata": {
        "colab": {
          "base_uri": "https://localhost:8080/"
        },
        "id": "3opj5bzEzv6v",
        "outputId": "a4c09c00-88e7-45da-8c24-fe199e8fbad5"
      },
      "source": [
        "model.fit(X_train,y_train,validation_data=(X_test,y_test),epochs=20)"
      ],
      "execution_count": 11,
      "outputs": [
        {
          "output_type": "stream",
          "text": [
            "Epoch 1/20\n",
            "6144/6144 [==============================] - 39s 6ms/step - loss: 0.4075 - auc: 0.8254 - val_loss: 0.3737 - val_auc: 0.8536\n",
            "Epoch 2/20\n",
            "6144/6144 [==============================] - 34s 6ms/step - loss: 0.3782 - auc: 0.8481 - val_loss: 0.3707 - val_auc: 0.8572\n",
            "Epoch 3/20\n",
            "6144/6144 [==============================] - 34s 5ms/step - loss: 0.3736 - auc: 0.8526 - val_loss: 0.3661 - val_auc: 0.8609\n",
            "Epoch 4/20\n",
            "6144/6144 [==============================] - 34s 5ms/step - loss: 0.3711 - auc: 0.8547 - val_loss: 0.3585 - val_auc: 0.8644\n",
            "Epoch 5/20\n",
            "6144/6144 [==============================] - 34s 6ms/step - loss: 0.3668 - auc: 0.8578 - val_loss: 0.3545 - val_auc: 0.8670\n",
            "Epoch 6/20\n",
            "6144/6144 [==============================] - 34s 5ms/step - loss: 0.3632 - auc: 0.8601 - val_loss: 0.3527 - val_auc: 0.8674\n",
            "Epoch 7/20\n",
            "6144/6144 [==============================] - 34s 5ms/step - loss: 0.3623 - auc: 0.8600 - val_loss: 0.3504 - val_auc: 0.8691\n",
            "Epoch 8/20\n",
            "6144/6144 [==============================] - 34s 6ms/step - loss: 0.3611 - auc: 0.8612 - val_loss: 0.3512 - val_auc: 0.8685\n",
            "Epoch 9/20\n",
            "6144/6144 [==============================] - 33s 5ms/step - loss: 0.3606 - auc: 0.8612 - val_loss: 0.3522 - val_auc: 0.8680\n",
            "Epoch 10/20\n",
            "6144/6144 [==============================] - 33s 5ms/step - loss: 0.3602 - auc: 0.8614 - val_loss: 0.3497 - val_auc: 0.8690\n",
            "Epoch 11/20\n",
            "6144/6144 [==============================] - 33s 5ms/step - loss: 0.3600 - auc: 0.8614 - val_loss: 0.3513 - val_auc: 0.8675\n",
            "Epoch 12/20\n",
            "6144/6144 [==============================] - 33s 5ms/step - loss: 0.3588 - auc: 0.8626 - val_loss: 0.3496 - val_auc: 0.8695\n",
            "Epoch 13/20\n",
            "6144/6144 [==============================] - 33s 5ms/step - loss: 0.3589 - auc: 0.8623 - val_loss: 0.3509 - val_auc: 0.8697\n",
            "Epoch 14/20\n",
            "6144/6144 [==============================] - 33s 5ms/step - loss: 0.3585 - auc: 0.8630 - val_loss: 0.3504 - val_auc: 0.8689\n",
            "Epoch 15/20\n",
            "6144/6144 [==============================] - 34s 6ms/step - loss: 0.3586 - auc: 0.8628 - val_loss: 0.3494 - val_auc: 0.8680\n",
            "Epoch 16/20\n",
            "6144/6144 [==============================] - 37s 6ms/step - loss: 0.3580 - auc: 0.8631 - val_loss: 0.3512 - val_auc: 0.8690\n",
            "Epoch 17/20\n",
            "6144/6144 [==============================] - 34s 6ms/step - loss: 0.3572 - auc: 0.8640 - val_loss: 0.3496 - val_auc: 0.8691\n",
            "Epoch 18/20\n",
            "6144/6144 [==============================] - 34s 6ms/step - loss: 0.3580 - auc: 0.8631 - val_loss: 0.3512 - val_auc: 0.8693\n",
            "Epoch 19/20\n",
            "6144/6144 [==============================] - 34s 5ms/step - loss: 0.3575 - auc: 0.8635 - val_loss: 0.3506 - val_auc: 0.8692\n",
            "Epoch 20/20\n",
            "6144/6144 [==============================] - 34s 6ms/step - loss: 0.3574 - auc: 0.8636 - val_loss: 0.3507 - val_auc: 0.8696\n"
          ],
          "name": "stdout"
        },
        {
          "output_type": "execute_result",
          "data": {
            "text/plain": [
              "<tensorflow.python.keras.callbacks.History at 0x7f2be0100090>"
            ]
          },
          "metadata": {
            "tags": []
          },
          "execution_count": 11
        }
      ]
    },
    {
      "cell_type": "code",
      "metadata": {
        "colab": {
          "base_uri": "https://localhost:8080/"
        },
        "id": "7gIhxPYl4jM7",
        "outputId": "d6f49c96-84d8-4ed9-a94e-68d7582207a9"
      },
      "source": [
        "model.fit(X_train,y_train,validation_data=(X_test,y_test),epochs=10)"
      ],
      "execution_count": 13,
      "outputs": [
        {
          "output_type": "stream",
          "text": [
            "Epoch 1/10\n",
            "6144/6144 [==============================] - 35s 6ms/step - loss: 0.3571 - auc: 0.8642 - val_loss: 0.3498 - val_auc: 0.8683\n",
            "Epoch 2/10\n",
            "6144/6144 [==============================] - 34s 6ms/step - loss: 0.3570 - auc: 0.8642 - val_loss: 0.3500 - val_auc: 0.8690\n",
            "Epoch 3/10\n",
            "6144/6144 [==============================] - 35s 6ms/step - loss: 0.3570 - auc: 0.8639 - val_loss: 0.3505 - val_auc: 0.8681\n",
            "Epoch 4/10\n",
            "6144/6144 [==============================] - 34s 6ms/step - loss: 0.3565 - auc: 0.8642 - val_loss: 0.3503 - val_auc: 0.8696\n",
            "Epoch 5/10\n",
            "6144/6144 [==============================] - 37s 6ms/step - loss: 0.3565 - auc: 0.8641 - val_loss: 0.3493 - val_auc: 0.8696\n",
            "Epoch 6/10\n",
            "6144/6144 [==============================] - 37s 6ms/step - loss: 0.3563 - auc: 0.8643 - val_loss: 0.3501 - val_auc: 0.8696\n",
            "Epoch 7/10\n",
            "6144/6144 [==============================] - 34s 6ms/step - loss: 0.3561 - auc: 0.8644 - val_loss: 0.3518 - val_auc: 0.8679\n",
            "Epoch 8/10\n",
            "6144/6144 [==============================] - 34s 6ms/step - loss: 0.3561 - auc: 0.8650 - val_loss: 0.3499 - val_auc: 0.8692\n",
            "Epoch 9/10\n",
            "6144/6144 [==============================] - 34s 6ms/step - loss: 0.3565 - auc: 0.8640 - val_loss: 0.3493 - val_auc: 0.8697\n",
            "Epoch 10/10\n",
            "6144/6144 [==============================] - 36s 6ms/step - loss: 0.3556 - auc: 0.8649 - val_loss: 0.3485 - val_auc: 0.8703\n"
          ],
          "name": "stdout"
        },
        {
          "output_type": "execute_result",
          "data": {
            "text/plain": [
              "<tensorflow.python.keras.callbacks.History at 0x7f2b90618ed0>"
            ]
          },
          "metadata": {
            "tags": []
          },
          "execution_count": 13
        }
      ]
    },
    {
      "cell_type": "code",
      "metadata": {
        "id": "rxuJVXB0zv6v"
      },
      "source": [
        "predictions_on_test_data3=model.predict(X_test_data)\n",
        "submission=pd.read_csv(\"sample_submission_eyYijxG.csv\")\n",
        "submission['Is_Lead']=predictions_on_test_data3\n",
        "submission.to_csv('MLP2_MMS_LE_submission.csv',index=False)"
      ],
      "execution_count": 14,
      "outputs": []
    },
    {
      "cell_type": "code",
      "metadata": {
        "id": "hy4XcVd102b9"
      },
      "source": [
        "def auroc(y_true, y_pred):\n",
        "    return tf.py_func(roc_auc_score, (y_true, y_pred), tf.double)"
      ],
      "execution_count": null,
      "outputs": []
    },
    {
      "cell_type": "code",
      "metadata": {
        "id": "jARyFR4V5w93"
      },
      "source": [
        "model.compile(loss='categorical_crossentropy', optimizer='adam',metrics=[auroc])"
      ],
      "execution_count": null,
      "outputs": []
    },
    {
      "cell_type": "code",
      "metadata": {
        "id": "FvjAN-FQ02du"
      },
      "source": [
        ""
      ],
      "execution_count": null,
      "outputs": []
    },
    {
      "cell_type": "code",
      "metadata": {
        "id": "oUyWkk6w02hw"
      },
      "source": [
        ""
      ],
      "execution_count": null,
      "outputs": []
    }
  ]
}