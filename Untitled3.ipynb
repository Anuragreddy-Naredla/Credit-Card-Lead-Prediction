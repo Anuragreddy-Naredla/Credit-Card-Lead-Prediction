{
 "cells": [
  {
   "cell_type": "code",
   "execution_count": 1,
   "metadata": {},
   "outputs": [],
   "source": [
    "import numpy as np\n",
    "import pandas as pd\n",
    "from sklearn.model_selection import train_test_split\n",
    "from sklearn.preprocessing import LabelEncoder \n",
    "from sklearn.linear_model import LogisticRegression\n",
    "from sklearn.metrics import roc_auc_score\n",
    "from sklearn.preprocessing import StandardScaler\n",
    "import warnings\n",
    "warnings.filterwarnings(\"ignore\")\n",
    "from sklearn.ensemble import RandomForestClassifier"
   ]
  },
  {
   "cell_type": "code",
   "execution_count": 2,
   "metadata": {},
   "outputs": [],
   "source": [
    "train_data=pd.read_csv(\"train_s3TEQDk.csv\")\n",
    "test_data=pd.read_csv(\"test_mSzZ8RL.csv\")"
   ]
  },
  {
   "cell_type": "code",
   "execution_count": 3,
   "metadata": {},
   "outputs": [],
   "source": [
    "X_train = train_data.drop(['ID','Is_Lead'], axis=1)\n",
    "Y_train = train_data['Is_Lead'].values\n",
    "X_test_data=test_data.drop(['ID'],axis=1)"
   ]
  },
  {
   "cell_type": "code",
   "execution_count": 4,
   "metadata": {},
   "outputs": [],
   "source": [
    "X_train,X_test,y_train,y_test=train_test_split(X_train,Y_train,test_size = 0.2,random_state=42)"
   ]
  },
  {
   "cell_type": "code",
   "execution_count": 5,
   "metadata": {},
   "outputs": [],
   "source": [
    "X_train['Credit_Product'].fillna('Yes',inplace=True)\n",
    "X_test['Credit_Product'].fillna('Yes',inplace=True)\n",
    "X_test_data['Credit_Product'].fillna('Yes',inplace=True)"
   ]
  },
  {
   "cell_type": "code",
   "execution_count": 6,
   "metadata": {},
   "outputs": [],
   "source": [
    "#Doing Label Encoding to our Categeorical features for train_data\n",
    "label_encoder=LabelEncoder()\n",
    "X_train['Gender']=label_encoder.fit_transform(X_train['Gender'])\n",
    "X_test['Gender']=label_encoder.fit_transform(X_test['Gender'])\n",
    "X_test_data['Gender']=label_encoder.fit_transform(X_test_data['Gender'])\n",
    "\n",
    "X_train['Region_Code']=label_encoder.fit_transform(X_train['Region_Code'])\n",
    "X_test['Region_Code']=label_encoder.fit_transform(X_test['Region_Code'])\n",
    "X_test_data['Region_Code']=label_encoder.fit_transform(X_test_data['Region_Code'])\n",
    "\n",
    "X_train['Occupation']=label_encoder.fit_transform(X_train['Occupation'])\n",
    "X_test['Occupation']=label_encoder.fit_transform(X_test['Occupation'])\n",
    "X_test_data['Occupation']=label_encoder.fit_transform(X_test_data['Occupation'])\n",
    "\n",
    "X_train['Channel_Code']=label_encoder.fit_transform(X_train['Channel_Code'])\n",
    "X_test['Channel_Code']=label_encoder.fit_transform(X_test['Channel_Code'])\n",
    "X_test_data['Channel_Code']=label_encoder.fit_transform(X_test_data['Channel_Code'])\n",
    "\n",
    "X_train['Credit_Product']=label_encoder.fit_transform(X_train['Credit_Product'])\n",
    "X_test['Credit_Product']=label_encoder.fit_transform(X_test['Credit_Product'])\n",
    "X_test_data['Credit_Product']=label_encoder.fit_transform(X_test_data['Credit_Product'])\n",
    "\n",
    "X_train['Is_Active']=label_encoder.fit_transform(X_train['Is_Active'])\n",
    "X_test['Is_Active']=label_encoder.fit_transform(X_test['Is_Active'])\n",
    "X_test_data['Is_Active']=label_encoder.fit_transform(X_test_data['Is_Active'])"
   ]
  },
  {
   "cell_type": "code",
   "execution_count": 7,
   "metadata": {},
   "outputs": [],
   "source": [
    "scaling=StandardScaler()\n",
    "X_train[['Age','Vintage','Avg_Account_Balance']]=scaling.fit_transform(X_train[['Age','Vintage','Avg_Account_Balance']])\n",
    "X_test[['Age','Vintage','Avg_Account_Balance']]=scaling.fit_transform(X_test[['Age','Vintage','Avg_Account_Balance']])\n",
    "X_test_data[['Age','Vintage','Avg_Account_Balance']]=scaling.fit_transform(X_test_data[['Age','Vintage','Avg_Account_Balance']])"
   ]
  },
  {
   "cell_type": "markdown",
   "metadata": {},
   "source": [
    "#### Random Forest Classifier"
   ]
  },
  {
   "cell_type": "code",
   "execution_count": 12,
   "metadata": {},
   "outputs": [
    {
     "name": "stdout",
     "output_type": "stream",
     "text": [
      "10\n",
      "Roc_score= 0.8068923046060023\n",
      "50\n",
      "Roc_score= 0.8266330226746452\n",
      "100\n",
      "Roc_score= 0.829077131622991\n",
      "500\n",
      "Roc_score= 0.831075511841713\n",
      "1000\n",
      "Roc_score= 0.8313386237017676\n",
      "2000\n",
      "Roc_score= 0.8315303448196804\n"
     ]
    }
   ],
   "source": [
    "alpha=[10,50,100,500,1000,2000]\n",
    "cv_log_error_array=[]\n",
    "for i in alpha:\n",
    "    model2=RandomForestClassifier(n_estimators=i,random_state=24,n_jobs=-1)\n",
    "    model2.fit(X_train,y_train)\n",
    "    pred_prob2 = model2.predict_proba(X_test)\n",
    "    auc_score2 = roc_auc_score(y_test, pred_prob2[:,1])\n",
    "    print(i)\n",
    "    print(\"Roc_score=\",auc_score2)"
   ]
  },
  {
   "cell_type": "code",
   "execution_count": 13,
   "metadata": {},
   "outputs": [
    {
     "name": "stdout",
     "output_type": "stream",
     "text": [
      "0.8315901987757067\n"
     ]
    }
   ],
   "source": [
    "model2 = RandomForestClassifier(n_estimators=2000)\n",
    "model2.fit(X_train, y_train)\n",
    "pred_prob2 = model2.predict_proba(X_test)\n",
    "auc_score2 = roc_auc_score(y_test, pred_prob2[:,1])\n",
    "print(auc_score2)"
   ]
  },
  {
   "cell_type": "code",
   "execution_count": 14,
   "metadata": {},
   "outputs": [],
   "source": [
    "predictions_on_test_data2=model2.predict(X_test_data)\n",
    "submission=pd.read_csv(\"sample_submission_eyYijxG.csv\")\n",
    "submission['Is_Lead']=predictions_on_test_data2\n",
    "submission.to_csv('submissions_hackathon/LE_SS_Random_Forest_submission.csv',index=False)"
   ]
  },
  {
   "cell_type": "code",
   "execution_count": null,
   "metadata": {},
   "outputs": [],
   "source": []
  },
  {
   "cell_type": "code",
   "execution_count": null,
   "metadata": {},
   "outputs": [],
   "source": []
  },
  {
   "cell_type": "code",
   "execution_count": null,
   "metadata": {},
   "outputs": [],
   "source": []
  }
 ],
 "metadata": {
  "kernelspec": {
   "display_name": "Python 3",
   "language": "python",
   "name": "python3"
  },
  "language_info": {
   "codemirror_mode": {
    "name": "ipython",
    "version": 3
   },
   "file_extension": ".py",
   "mimetype": "text/x-python",
   "name": "python",
   "nbconvert_exporter": "python",
   "pygments_lexer": "ipython3",
   "version": "3.8.3"
  }
 },
 "nbformat": 4,
 "nbformat_minor": 4
}
