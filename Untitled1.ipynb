{
 "cells": [
  {
   "cell_type": "code",
   "execution_count": 2,
   "metadata": {
    "colab": {
     "base_uri": "https://localhost:8080/"
    },
    "id": "bGweqwR-lozt",
    "outputId": "6ccb4134-17d9-4c79-f0b9-bbe2fa34b789"
   },
   "outputs": [
    {
     "name": "stdout",
     "output_type": "stream",
     "text": [
      "Drive already mounted at /content/drive; to attempt to forcibly remount, call drive.mount(\"/content/drive\", force_remount=True).\n"
     ]
    }
   ],
   "source": [
    "from google.colab import drive\n",
    "drive.mount('/content/drive')"
   ]
  },
  {
   "cell_type": "code",
   "execution_count": 1,
   "metadata": {
    "id": "z0WGGWlqlvsu"
   },
   "outputs": [],
   "source": [
    "import numpy as np\n",
    "import pandas as pd\n",
    "from sklearn.model_selection import train_test_split\n",
    "from sklearn.ensemble import RandomForestClassifier\n",
    "from sklearn.metrics import roc_auc_score\n",
    "from xgboost import XGBClassifier\n",
    "from sklearn.model_selection import RandomizedSearchCV"
   ]
  },
  {
   "cell_type": "code",
   "execution_count": 2,
   "metadata": {
    "id": "EJCrhwyYl2T8"
   },
   "outputs": [],
   "source": [
    "train_data=pd.read_csv(\"train_s3TEQDk.csv\")\n",
    "test_data=pd.read_csv(\"test_mSzZ8RL.csv\")"
   ]
  },
  {
   "cell_type": "code",
   "execution_count": 3,
   "metadata": {
    "colab": {
     "base_uri": "https://localhost:8080/"
    },
    "id": "CsOiyK_Il2V5",
    "outputId": "046f3428-277b-4db8-be1e-c2d97f37597a"
   },
   "outputs": [
    {
     "name": "stdout",
     "output_type": "stream",
     "text": [
      "(245725, 11)\n",
      "(105312, 10)\n"
     ]
    }
   ],
   "source": [
    "#shape of the dataset\n",
    "print(train_data.shape)#shape of train_data\n",
    "print(test_data.shape)#shape of test_data"
   ]
  },
  {
   "cell_type": "code",
   "execution_count": 4,
   "metadata": {
    "colab": {
     "base_uri": "https://localhost:8080/",
     "height": 110
    },
    "id": "FhYPnodJl2Zf",
    "outputId": "41d0d5d4-51e3-42e6-9ac4-80fc013e167f"
   },
   "outputs": [
    {
     "data": {
      "text/html": [
       "<div>\n",
       "<style scoped>\n",
       "    .dataframe tbody tr th:only-of-type {\n",
       "        vertical-align: middle;\n",
       "    }\n",
       "\n",
       "    .dataframe tbody tr th {\n",
       "        vertical-align: top;\n",
       "    }\n",
       "\n",
       "    .dataframe thead th {\n",
       "        text-align: right;\n",
       "    }\n",
       "</style>\n",
       "<table border=\"1\" class=\"dataframe\">\n",
       "  <thead>\n",
       "    <tr style=\"text-align: right;\">\n",
       "      <th></th>\n",
       "      <th>ID</th>\n",
       "      <th>Gender</th>\n",
       "      <th>Age</th>\n",
       "      <th>Region_Code</th>\n",
       "      <th>Occupation</th>\n",
       "      <th>Channel_Code</th>\n",
       "      <th>Vintage</th>\n",
       "      <th>Credit_Product</th>\n",
       "      <th>Avg_Account_Balance</th>\n",
       "      <th>Is_Active</th>\n",
       "      <th>Is_Lead</th>\n",
       "    </tr>\n",
       "  </thead>\n",
       "  <tbody>\n",
       "    <tr>\n",
       "      <th>0</th>\n",
       "      <td>NNVBBKZB</td>\n",
       "      <td>Female</td>\n",
       "      <td>73</td>\n",
       "      <td>RG268</td>\n",
       "      <td>Other</td>\n",
       "      <td>X3</td>\n",
       "      <td>43</td>\n",
       "      <td>No</td>\n",
       "      <td>1045696</td>\n",
       "      <td>No</td>\n",
       "      <td>0</td>\n",
       "    </tr>\n",
       "    <tr>\n",
       "      <th>1</th>\n",
       "      <td>IDD62UNG</td>\n",
       "      <td>Female</td>\n",
       "      <td>30</td>\n",
       "      <td>RG277</td>\n",
       "      <td>Salaried</td>\n",
       "      <td>X1</td>\n",
       "      <td>32</td>\n",
       "      <td>No</td>\n",
       "      <td>581988</td>\n",
       "      <td>No</td>\n",
       "      <td>0</td>\n",
       "    </tr>\n",
       "  </tbody>\n",
       "</table>\n",
       "</div>"
      ],
      "text/plain": [
       "         ID  Gender  Age Region_Code Occupation Channel_Code  Vintage  \\\n",
       "0  NNVBBKZB  Female   73       RG268      Other           X3       43   \n",
       "1  IDD62UNG  Female   30       RG277   Salaried           X1       32   \n",
       "\n",
       "  Credit_Product  Avg_Account_Balance Is_Active  Is_Lead  \n",
       "0             No              1045696        No        0  \n",
       "1             No               581988        No        0  "
      ]
     },
     "execution_count": 4,
     "metadata": {},
     "output_type": "execute_result"
    }
   ],
   "source": [
    "train_data.head(2)"
   ]
  },
  {
   "cell_type": "code",
   "execution_count": 5,
   "metadata": {
    "colab": {
     "base_uri": "https://localhost:8080/",
     "height": 110
    },
    "id": "h73BzRlqmQ67",
    "outputId": "e2b7f648-b149-4afe-b316-84a29766271e"
   },
   "outputs": [
    {
     "data": {
      "text/html": [
       "<div>\n",
       "<style scoped>\n",
       "    .dataframe tbody tr th:only-of-type {\n",
       "        vertical-align: middle;\n",
       "    }\n",
       "\n",
       "    .dataframe tbody tr th {\n",
       "        vertical-align: top;\n",
       "    }\n",
       "\n",
       "    .dataframe thead th {\n",
       "        text-align: right;\n",
       "    }\n",
       "</style>\n",
       "<table border=\"1\" class=\"dataframe\">\n",
       "  <thead>\n",
       "    <tr style=\"text-align: right;\">\n",
       "      <th></th>\n",
       "      <th>ID</th>\n",
       "      <th>Gender</th>\n",
       "      <th>Age</th>\n",
       "      <th>Region_Code</th>\n",
       "      <th>Occupation</th>\n",
       "      <th>Channel_Code</th>\n",
       "      <th>Vintage</th>\n",
       "      <th>Credit_Product</th>\n",
       "      <th>Avg_Account_Balance</th>\n",
       "      <th>Is_Active</th>\n",
       "    </tr>\n",
       "  </thead>\n",
       "  <tbody>\n",
       "    <tr>\n",
       "      <th>0</th>\n",
       "      <td>VBENBARO</td>\n",
       "      <td>Male</td>\n",
       "      <td>29</td>\n",
       "      <td>RG254</td>\n",
       "      <td>Other</td>\n",
       "      <td>X1</td>\n",
       "      <td>25</td>\n",
       "      <td>Yes</td>\n",
       "      <td>742366</td>\n",
       "      <td>No</td>\n",
       "    </tr>\n",
       "    <tr>\n",
       "      <th>1</th>\n",
       "      <td>CCMEWNKY</td>\n",
       "      <td>Male</td>\n",
       "      <td>43</td>\n",
       "      <td>RG268</td>\n",
       "      <td>Other</td>\n",
       "      <td>X2</td>\n",
       "      <td>49</td>\n",
       "      <td>NaN</td>\n",
       "      <td>925537</td>\n",
       "      <td>No</td>\n",
       "    </tr>\n",
       "  </tbody>\n",
       "</table>\n",
       "</div>"
      ],
      "text/plain": [
       "         ID Gender  Age Region_Code Occupation Channel_Code  Vintage  \\\n",
       "0  VBENBARO   Male   29       RG254      Other           X1       25   \n",
       "1  CCMEWNKY   Male   43       RG268      Other           X2       49   \n",
       "\n",
       "  Credit_Product  Avg_Account_Balance Is_Active  \n",
       "0            Yes               742366        No  \n",
       "1            NaN               925537        No  "
      ]
     },
     "execution_count": 5,
     "metadata": {},
     "output_type": "execute_result"
    }
   ],
   "source": [
    "test_data.head(2)"
   ]
  },
  {
   "cell_type": "code",
   "execution_count": 6,
   "metadata": {
    "colab": {
     "base_uri": "https://localhost:8080/"
    },
    "id": "I1a21tDanMi7",
    "outputId": "3859bdb5-b834-4113-d100-568d69e867c6"
   },
   "outputs": [
    {
     "data": {
      "text/plain": [
       "ID                         0\n",
       "Gender                     0\n",
       "Age                        0\n",
       "Region_Code                0\n",
       "Occupation                 0\n",
       "Channel_Code               0\n",
       "Vintage                    0\n",
       "Credit_Product         29325\n",
       "Avg_Account_Balance        0\n",
       "Is_Active                  0\n",
       "Is_Lead                    0\n",
       "dtype: int64"
      ]
     },
     "execution_count": 6,
     "metadata": {},
     "output_type": "execute_result"
    }
   ],
   "source": [
    "train_data.isnull().sum()"
   ]
  },
  {
   "cell_type": "code",
   "execution_count": 7,
   "metadata": {
    "colab": {
     "base_uri": "https://localhost:8080/"
    },
    "id": "BiBeR1b2nLK0",
    "outputId": "f38b6945-254d-471b-a6ad-1d5b93dea6ab"
   },
   "outputs": [
    {
     "data": {
      "text/plain": [
       "ID                         0\n",
       "Gender                     0\n",
       "Age                        0\n",
       "Region_Code                0\n",
       "Occupation                 0\n",
       "Channel_Code               0\n",
       "Vintage                    0\n",
       "Credit_Product         12522\n",
       "Avg_Account_Balance        0\n",
       "Is_Active                  0\n",
       "dtype: int64"
      ]
     },
     "execution_count": 7,
     "metadata": {},
     "output_type": "execute_result"
    }
   ],
   "source": [
    "test_data.isnull().sum()"
   ]
  },
  {
   "cell_type": "code",
   "execution_count": 8,
   "metadata": {
    "colab": {
     "base_uri": "https://localhost:8080/"
    },
    "id": "UOWLLC-SnV96",
    "outputId": "4acd1803-5852-4da8-8d5c-8fb11354d20e"
   },
   "outputs": [
    {
     "name": "stdout",
     "output_type": "stream",
     "text": [
      "********* Gender ************\n",
      "train_data=>\n",
      "Male      134197\n",
      "Female    111528\n",
      "Name: Gender, dtype: int64\n",
      "test_data=>\n",
      "Male      57705\n",
      "Female    47607\n",
      "Name: Gender, dtype: int64\n",
      "********* Region_Code ************\n",
      "train_data=>\n",
      "RG268    35934\n",
      "RG283    29416\n",
      "RG254    26840\n",
      "RG284    19320\n",
      "RG277    12826\n",
      "RG280    12775\n",
      "RG269     7863\n",
      "RG270     7720\n",
      "RG261     7633\n",
      "RG257     6101\n",
      "RG251     5950\n",
      "RG282     5829\n",
      "RG274     5286\n",
      "RG272     5252\n",
      "RG281     5093\n",
      "RG273     4497\n",
      "RG252     4286\n",
      "RG279     3976\n",
      "RG263     3687\n",
      "RG275     3245\n",
      "RG260     3110\n",
      "RG256     2847\n",
      "RG264     2793\n",
      "RG276     2764\n",
      "RG259     2586\n",
      "RG250     2496\n",
      "RG255     2018\n",
      "RG258     1951\n",
      "RG253     1858\n",
      "RG278     1822\n",
      "RG262     1788\n",
      "RG266     1578\n",
      "RG265     1546\n",
      "RG271     1542\n",
      "RG267     1497\n",
      "Name: Region_Code, dtype: int64\n",
      "test_data=>\n",
      "RG268    15125\n",
      "RG283    12881\n",
      "RG254    11737\n",
      "RG284     8173\n",
      "RG277     5596\n",
      "RG280     5529\n",
      "RG270     3440\n",
      "RG269     3288\n",
      "RG261     3286\n",
      "RG251     2678\n",
      "RG257     2588\n",
      "RG272     2338\n",
      "RG282     2337\n",
      "RG274     2208\n",
      "RG281     2144\n",
      "RG252     1811\n",
      "RG273     1803\n",
      "RG263     1615\n",
      "RG279     1600\n",
      "RG275     1383\n",
      "RG260     1300\n",
      "RG264     1241\n",
      "RG256     1194\n",
      "RG276     1185\n",
      "RG259     1102\n",
      "RG250     1048\n",
      "RG255      891\n",
      "RG278      824\n",
      "RG258      812\n",
      "RG253      810\n",
      "RG262      800\n",
      "RG265      668\n",
      "RG271      654\n",
      "RG266      631\n",
      "RG267      592\n",
      "Name: Region_Code, dtype: int64\n",
      "********* Occupation ************\n",
      "train_data=>\n",
      "Self_Employed    100886\n",
      "Salaried          71999\n",
      "Other             70173\n",
      "Entrepreneur       2667\n",
      "Name: Occupation, dtype: int64\n",
      "test_data=>\n",
      "Self_Employed    43192\n",
      "Salaried         30913\n",
      "Other            30131\n",
      "Entrepreneur      1076\n",
      "Name: Occupation, dtype: int64\n",
      "********* Channel_Code  ************\n",
      "train_data=>\n",
      "X1    103718\n",
      "X3     68712\n",
      "X2     67726\n",
      "X4      5569\n",
      "Name: Channel_Code, dtype: int64\n",
      "test_data=>\n",
      "X1    44484\n",
      "X3    29269\n",
      "X2    29176\n",
      "X4     2383\n",
      "Name: Channel_Code, dtype: int64\n",
      "********* Credit_Product  ************\n",
      "train_data=>\n",
      "No     144357\n",
      "Yes     72043\n",
      "Name: Credit_Product, dtype: int64\n",
      "test_data=>\n",
      "No     61608\n",
      "Yes    31182\n",
      "Name: Credit_Product, dtype: int64\n",
      "********* Is_Active ************\n",
      "train_data=>\n",
      "No     150290\n",
      "Yes     95435\n",
      "Name: Is_Active, dtype: int64\n",
      "test_data=>\n",
      "No     63797\n",
      "Yes    41515\n",
      "Name: Is_Active, dtype: int64\n"
     ]
    }
   ],
   "source": [
    "print(\"*********\",\"Gender\",'************')\n",
    "print(\"train_data=>\")\n",
    "print(train_data['Gender'].value_counts())\n",
    "print(\"test_data=>\")\n",
    "print(test_data['Gender'].value_counts())\n",
    "\n",
    "print(\"*********\",\"Region_Code\",'************')\n",
    "print(\"train_data=>\")\n",
    "print(train_data['Region_Code'].value_counts())\n",
    "print(\"test_data=>\")\n",
    "print(test_data['Region_Code'].value_counts())\n",
    "\n",
    "print(\"*********\",\"Occupation\",'************')\n",
    "print(\"train_data=>\")\n",
    "print(train_data['Occupation'].value_counts())\n",
    "print(\"test_data=>\")\n",
    "print(test_data['Occupation'].value_counts())\n",
    "\n",
    "print(\"*********\",\"Channel_Code \",'************')\n",
    "print(\"train_data=>\")\n",
    "print(train_data['Channel_Code'].value_counts())\n",
    "print(\"test_data=>\")\n",
    "print(test_data['Channel_Code'].value_counts())\n",
    "\n",
    "print(\"*********\",\"Credit_Product \",'************')\n",
    "print(\"train_data=>\")\n",
    "print(train_data['Credit_Product'].value_counts())\n",
    "print(\"test_data=>\")\n",
    "print(test_data['Credit_Product'].value_counts())\n",
    "\n",
    "print(\"*********\",\"Is_Active\",'************')\n",
    "print(\"train_data=>\")\n",
    "print(train_data['Is_Active'].value_counts())\n",
    "print(\"test_data=>\")\n",
    "print(test_data['Is_Active'].value_counts())\n"
   ]
  },
  {
   "cell_type": "code",
   "execution_count": 9,
   "metadata": {
    "id": "j-kfP9yRu-nx"
   },
   "outputs": [],
   "source": [
    "X_train = train_data.drop(['ID','Is_Lead'], axis=1)\n",
    "Y_train = train_data['Is_Lead'].values\n",
    "X_test_data=test_data.drop(['ID'],axis=1)"
   ]
  },
  {
   "cell_type": "code",
   "execution_count": 10,
   "metadata": {
    "id": "jhckHhPJwMh8"
   },
   "outputs": [],
   "source": [
    "X_train,X_test,y_train,y_test=train_test_split(X_train,Y_train,test_size = 0.2,random_state=42)"
   ]
  },
  {
   "cell_type": "code",
   "execution_count": 11,
   "metadata": {
    "id": "w56_o_9Mw3J_"
   },
   "outputs": [],
   "source": [
    "X_train=pd.get_dummies(X_train,drop_first=True)\n",
    "X_test=pd.get_dummies(X_test,drop_first=True)\n",
    "X_test_data=pd.get_dummies(X_test_data,drop_first=True)"
   ]
  },
  {
   "cell_type": "markdown",
   "metadata": {
    "id": "YcrWf-Lo0_fe"
   },
   "source": [
    "#### a.LogisticRegression"
   ]
  },
  {
   "cell_type": "code",
   "execution_count": 81,
   "metadata": {
    "id": "stu8fWnbxxqS"
   },
   "outputs": [],
   "source": [
    "from sklearn.linear_model import LogisticRegression\n",
    "model1 = LogisticRegression()\n",
    "model1.fit(X_train, y_train)\n",
    "pred_prob1 = model1.predict_proba(X_test)"
   ]
  },
  {
   "cell_type": "code",
   "execution_count": 83,
   "metadata": {
    "colab": {
     "base_uri": "https://localhost:8080/"
    },
    "id": "c3gtLBPhxxtJ",
    "outputId": "725ae82b-e199-41b4-df8a-91c60badab57"
   },
   "outputs": [
    {
     "name": "stdout",
     "output_type": "stream",
     "text": [
      "0.44106699566682717\n"
     ]
    }
   ],
   "source": [
    "from sklearn.metrics import roc_auc_score\n",
    "auc_score1 = roc_auc_score(y_test, pred_prob1[:,1])\n",
    "print(auc_score1)"
   ]
  },
  {
   "cell_type": "code",
   "execution_count": 84,
   "metadata": {
    "id": "sOHUokFV0IfB"
   },
   "outputs": [],
   "source": [
    "predictions_on_test_data=model1.predict(X_test_data)\n",
    "submission=pd.read_csv(\"/content/drive/MyDrive/Hackthon/sample_submission_eyYijxG.csv\")\n",
    "submission['Is_Lead']=predictions_on_test_data\n",
    "submission.to_csv('logitic_regression_submission.csv',index=False)"
   ]
  },
  {
   "cell_type": "markdown",
   "metadata": {
    "id": "Z8QA69fk1DIt"
   },
   "source": [
    "#### b.Random Forest"
   ]
  },
  {
   "cell_type": "code",
   "execution_count": 87,
   "metadata": {
    "colab": {
     "base_uri": "https://localhost:8080/"
    },
    "id": "utIKhT2v02ud",
    "outputId": "ce3ca2fe-7ba7-4146-9d12-e9b6954b0377"
   },
   "outputs": [
    {
     "name": "stdout",
     "output_type": "stream",
     "text": [
      "0.7528404578490038\n"
     ]
    }
   ],
   "source": [
    "from sklearn.ensemble import RandomForestClassifier\n",
    "model2 = RandomForestClassifier()\n",
    "model2.fit(X_train, y_train)\n",
    "pred_prob2 = model2.predict_proba(X_test)\n",
    "auc_score2 = roc_auc_score(y_test, pred_prob2[:,1])\n",
    "print(auc_score2)"
   ]
  },
  {
   "cell_type": "code",
   "execution_count": 88,
   "metadata": {
    "id": "Q2Z6VMJO1E_L"
   },
   "outputs": [],
   "source": [
    "predictions_on_test_data2=model2.predict(X_test_data)\n",
    "submission=pd.read_csv(\"/content/drive/MyDrive/Hackthon/sample_submission_eyYijxG.csv\")\n",
    "submission['Is_Lead']=predictions_on_test_data2\n",
    "submission.to_csv('Random_Forest_submission.csv',index=False)"
   ]
  },
  {
   "cell_type": "code",
   "execution_count": 12,
   "metadata": {
    "colab": {
     "base_uri": "https://localhost:8080/"
    },
    "id": "LVQLVsDH1FA9",
    "outputId": "76972b7e-aa3b-44fc-d8ce-8942640cf119"
   },
   "outputs": [
    {
     "name": "stdout",
     "output_type": "stream",
     "text": [
      "10\n",
      "Roc_score= 0.724791527386111\n",
      "50\n",
      "Roc_score= 0.7495405736295482\n",
      "100\n",
      "Roc_score= 0.7531042139532751\n",
      "500\n",
      "Roc_score= 0.7555818178691793\n",
      "1000\n",
      "Roc_score= 0.7562720716693033\n"
     ]
    }
   ],
   "source": [
    "alpha=[10,50,100,500,1000]\n",
    "cv_log_error_array=[]\n",
    "for i in alpha:\n",
    "    model2=RandomForestClassifier(n_estimators=i,random_state=24,n_jobs=-1)\n",
    "    model2.fit(X_train,y_train)\n",
    "    pred_prob2 = model2.predict_proba(X_test)\n",
    "    auc_score2 = roc_auc_score(y_test, pred_prob2[:,1])\n",
    "    print(i)\n",
    "    print(\"Roc_score=\",auc_score2)"
   ]
  },
  {
   "cell_type": "code",
   "execution_count": 13,
   "metadata": {
    "colab": {
     "base_uri": "https://localhost:8080/"
    },
    "id": "mdeIwvBg1FEv",
    "outputId": "cecd7539-3806-4ac3-fa6c-28204bd6d9d5"
   },
   "outputs": [
    {
     "name": "stdout",
     "output_type": "stream",
     "text": [
      "0.7562837150652268\n"
     ]
    }
   ],
   "source": [
    "model2 = RandomForestClassifier(n_estimators=1000)\n",
    "model2.fit(X_train, y_train)\n",
    "pred_prob2 = model2.predict_proba(X_test)\n",
    "auc_score2 = roc_auc_score(y_test, pred_prob2[:,1])\n",
    "print(auc_score2)"
   ]
  },
  {
   "cell_type": "code",
   "execution_count": 14,
   "metadata": {
    "id": "yKx1IW6v2xLq"
   },
   "outputs": [],
   "source": [
    "predictions_on_test_data2=model2.predict(X_test_data)\n",
    "submission=pd.read_csv(\"/content/drive/MyDrive/Hackthon/sample_submission_eyYijxG.csv\")\n",
    "submission['Is_Lead']=predictions_on_test_data2\n",
    "submission.to_csv('Random_Forest_hyper_parameter_tuning_submission.csv',index=False)"
   ]
  },
  {
   "cell_type": "markdown",
   "metadata": {
    "id": "W_m0X7DQDIbu"
   },
   "source": [
    "#### c. XGBoost Classifier"
   ]
  },
  {
   "cell_type": "code",
   "execution_count": 12,
   "metadata": {
    "colab": {
     "base_uri": "https://localhost:8080/"
    },
    "id": "eGkyBB2l2xNZ",
    "outputId": "6d965ffa-c9b2-4337-99da-41583baebf61"
   },
   "outputs": [
    {
     "name": "stdout",
     "output_type": "stream",
     "text": [
      "Fitting 10 folds for each of 10 candidates, totalling 100 fits\n"
     ]
    },
    {
     "name": "stderr",
     "output_type": "stream",
     "text": [
      "[Parallel(n_jobs=-1)]: Using backend LokyBackend with 8 concurrent workers.\n",
      "[Parallel(n_jobs=-1)]: Done   2 tasks      | elapsed: 15.6min\n",
      "[Parallel(n_jobs=-1)]: Done   9 tasks      | elapsed: 17.1min\n",
      "[Parallel(n_jobs=-1)]: Done  16 tasks      | elapsed: 18.7min\n",
      "[Parallel(n_jobs=-1)]: Done  25 tasks      | elapsed: 30.1min\n",
      "[Parallel(n_jobs=-1)]: Done  34 tasks      | elapsed: 59.7min\n",
      "[Parallel(n_jobs=-1)]: Done  45 tasks      | elapsed: 64.0min\n",
      "[Parallel(n_jobs=-1)]: Done  56 tasks      | elapsed: 89.4min\n",
      "[Parallel(n_jobs=-1)]: Done  69 tasks      | elapsed: 128.6min\n",
      "[Parallel(n_jobs=-1)]: Done  82 tasks      | elapsed: 151.5min\n",
      "[Parallel(n_jobs=-1)]: Done  96 out of 100 | elapsed: 178.1min remaining:  7.4min\n",
      "[Parallel(n_jobs=-1)]: Done 100 out of 100 | elapsed: 184.0min finished\n"
     ]
    },
    {
     "ename": "NameError",
     "evalue": "name 'model1' is not defined",
     "output_type": "error",
     "traceback": [
      "\u001b[1;31m---------------------------------------------------------------------------\u001b[0m",
      "\u001b[1;31mNameError\u001b[0m                                 Traceback (most recent call last)",
      "\u001b[1;32m<ipython-input-12-8e190c62349b>\u001b[0m in \u001b[0;36m<module>\u001b[1;34m\u001b[0m\n\u001b[0;32m      7\u001b[0m \u001b[0mrand1\u001b[0m\u001b[1;33m=\u001b[0m\u001b[0mRandomizedSearchCV\u001b[0m\u001b[1;33m(\u001b[0m\u001b[0mmodel3\u001b[0m\u001b[1;33m,\u001b[0m\u001b[0mparam_distributions\u001b[0m\u001b[1;33m=\u001b[0m\u001b[0mprams\u001b[0m\u001b[1;33m,\u001b[0m\u001b[0mverbose\u001b[0m\u001b[1;33m=\u001b[0m\u001b[1;36m10\u001b[0m\u001b[1;33m,\u001b[0m\u001b[0mn_jobs\u001b[0m\u001b[1;33m=\u001b[0m\u001b[1;33m-\u001b[0m\u001b[1;36m1\u001b[0m\u001b[1;33m,\u001b[0m\u001b[0mcv\u001b[0m\u001b[1;33m=\u001b[0m\u001b[1;36m10\u001b[0m\u001b[1;33m)\u001b[0m\u001b[1;33m\u001b[0m\u001b[1;33m\u001b[0m\u001b[0m\n\u001b[0;32m      8\u001b[0m \u001b[0mrand1\u001b[0m\u001b[1;33m.\u001b[0m\u001b[0mfit\u001b[0m\u001b[1;33m(\u001b[0m\u001b[0mX_train\u001b[0m\u001b[1;33m,\u001b[0m\u001b[0my_train\u001b[0m\u001b[1;33m)\u001b[0m\u001b[1;33m\u001b[0m\u001b[1;33m\u001b[0m\u001b[0m\n\u001b[1;32m----> 9\u001b[1;33m \u001b[0mprint\u001b[0m\u001b[1;33m(\u001b[0m\u001b[0mmodel1\u001b[0m\u001b[1;33m.\u001b[0m\u001b[0mbest_params_\u001b[0m\u001b[1;33m)\u001b[0m\u001b[1;33m\u001b[0m\u001b[1;33m\u001b[0m\u001b[0m\n\u001b[0m",
      "\u001b[1;31mNameError\u001b[0m: name 'model1' is not defined"
     ]
    }
   ],
   "source": [
    "model3=XGBClassifier()\n",
    "\n",
    "prams={\n",
    "    'learning_rate':[0.01,0.03,0.05,0.1,0.15,0.2],\n",
    "     'n_estimators':[100,200,500,1000,2000],\n",
    "}\n",
    "rand1=RandomizedSearchCV(model3,param_distributions=prams,verbose=10,n_jobs=-1,cv=10)\n",
    "rand1.fit(X_train,y_train)\n",
    "print(model1.best_params_)"
   ]
  },
  {
   "cell_type": "code",
   "execution_count": 13,
   "metadata": {},
   "outputs": [
    {
     "name": "stdout",
     "output_type": "stream",
     "text": [
      "{'n_estimators': 1000, 'learning_rate': 0.01}\n"
     ]
    }
   ],
   "source": [
    "print(rand1.best_params_)"
   ]
  },
  {
   "cell_type": "code",
   "execution_count": 14,
   "metadata": {
    "id": "SUA8tj4VCoqq"
   },
   "outputs": [
    {
     "name": "stderr",
     "output_type": "stream",
     "text": [
      "c:\\users\\anuragreddy\\appdata\\local\\programs\\python\\python38\\lib\\site-packages\\sklearn\\model_selection\\_search.py:278: UserWarning: The total space of parameters 9 is smaller than n_iter=10. Running 9 iterations. For exhaustive searches, use GridSearchCV.\n",
      "  warnings.warn(\n"
     ]
    },
    {
     "name": "stdout",
     "output_type": "stream",
     "text": [
      "Fitting 10 folds for each of 9 candidates, totalling 90 fits\n"
     ]
    },
    {
     "name": "stderr",
     "output_type": "stream",
     "text": [
      "[Parallel(n_jobs=-1)]: Using backend LokyBackend with 8 concurrent workers.\n",
      "[Parallel(n_jobs=-1)]: Done   2 tasks      | elapsed:  2.2min\n",
      "[Parallel(n_jobs=-1)]: Done   9 tasks      | elapsed:  3.0min\n",
      "[Parallel(n_jobs=-1)]: Done  16 tasks      | elapsed:  3.1min\n",
      "[Parallel(n_jobs=-1)]: Done  25 tasks      | elapsed:  4.6min\n",
      "[Parallel(n_jobs=-1)]: Done  34 tasks      | elapsed:  5.8min\n",
      "[Parallel(n_jobs=-1)]: Done  45 tasks      | elapsed:  7.1min\n",
      "[Parallel(n_jobs=-1)]: Done  56 tasks      | elapsed:  8.7min\n",
      "[Parallel(n_jobs=-1)]: Done  69 tasks      | elapsed: 13.0min\n",
      "[Parallel(n_jobs=-1)]: Done  85 out of  90 | elapsed: 17.4min remaining:  1.0min\n",
      "[Parallel(n_jobs=-1)]: Done  90 out of  90 | elapsed: 18.0min finished\n"
     ]
    },
    {
     "name": "stdout",
     "output_type": "stream",
     "text": [
      "{'min_child_weight': 7, 'max_depth': 5}\n"
     ]
    }
   ],
   "source": [
    "model3=XGBClassifier()\n",
    "\n",
    "prams={\n",
    "     'max_depth':[3,5,10],\n",
    "    'min_child_weight':[1,4,7],\n",
    "}\n",
    "rand2=RandomizedSearchCV(model3,param_distributions=prams,verbose=10,n_jobs=-1,cv=10)\n",
    "rand2.fit(X_train,y_train)\n",
    "print(rand2.best_params_)"
   ]
  },
  {
   "cell_type": "code",
   "execution_count": 15,
   "metadata": {
    "id": "NUXiZHndCos7"
   },
   "outputs": [
    {
     "name": "stdout",
     "output_type": "stream",
     "text": [
      "Fitting 10 folds for each of 10 candidates, totalling 100 fits\n"
     ]
    },
    {
     "name": "stderr",
     "output_type": "stream",
     "text": [
      "[Parallel(n_jobs=-1)]: Using backend LokyBackend with 8 concurrent workers.\n",
      "[Parallel(n_jobs=-1)]: Done   2 tasks      | elapsed:  1.0min\n",
      "[Parallel(n_jobs=-1)]: Done   9 tasks      | elapsed:  1.4min\n",
      "[Parallel(n_jobs=-1)]: Done  16 tasks      | elapsed:  1.9min\n",
      "[Parallel(n_jobs=-1)]: Done  25 tasks      | elapsed:  2.8min\n",
      "[Parallel(n_jobs=-1)]: Done  34 tasks      | elapsed:  3.3min\n",
      "[Parallel(n_jobs=-1)]: Done  45 tasks      | elapsed:  4.4min\n",
      "[Parallel(n_jobs=-1)]: Done  56 tasks      | elapsed:  5.9min\n",
      "[Parallel(n_jobs=-1)]: Done  69 tasks      | elapsed:  7.1min\n",
      "[Parallel(n_jobs=-1)]: Done  82 tasks      | elapsed:  8.2min\n",
      "[Parallel(n_jobs=-1)]: Done  96 out of 100 | elapsed:  8.9min remaining:   22.2s\n",
      "[Parallel(n_jobs=-1)]: Done 100 out of 100 | elapsed:  9.0min finished\n"
     ]
    },
    {
     "name": "stdout",
     "output_type": "stream",
     "text": [
      "{'subsample': 1, 'colsample_bytree': 1}\n"
     ]
    }
   ],
   "source": [
    "model3=XGBClassifier()\n",
    "\n",
    "prams={\n",
    "    'colsample_bytree':[0.1,0.3,0.5,1],\n",
    "    'subsample':[0.1,0.3,0.5,1]\n",
    "}\n",
    "rand3=RandomizedSearchCV(model3,param_distributions=prams,verbose=10,n_jobs=-1,cv=10)\n",
    "rand3.fit(X_train,y_train)\n",
    "print(rand3.best_params_)"
   ]
  },
  {
   "cell_type": "code",
   "execution_count": 22,
   "metadata": {
    "id": "FhxHTqsYCowf"
   },
   "outputs": [
    {
     "name": "stdout",
     "output_type": "stream",
     "text": [
      "0.7839035869041887\n"
     ]
    }
   ],
   "source": [
    "model3 =XGBClassifier(subsample=1,n_estimators=1000,min_child_weight=7,max_depth=5,learning_rate=0.01,\n",
    "                      colsample_bytree=1)\n",
    "model3.fit(X_train,y_train)\n",
    "pred_prob3 = model3.predict_proba(X_test)\n",
    "auc_score3 = roc_auc_score(y_test, pred_prob3[:,1])\n",
    "print(auc_score3)"
   ]
  },
  {
   "cell_type": "code",
   "execution_count": 25,
   "metadata": {},
   "outputs": [],
   "source": [
    "predictions_on_test_data2=model3.predict(X_test_data)\n",
    "submission=pd.read_csv(\"sample_submission_eyYijxG.csv\")\n",
    "submission['Is_Lead']=predictions_on_test_data2\n",
    "submission.to_csv('submissions_hackathon/XGB_submission.csv',index=False)"
   ]
  },
  {
   "cell_type": "code",
   "execution_count": null,
   "metadata": {},
   "outputs": [],
   "source": []
  },
  {
   "cell_type": "code",
   "execution_count": null,
   "metadata": {},
   "outputs": [],
   "source": []
  },
  {
   "cell_type": "code",
   "execution_count": null,
   "metadata": {},
   "outputs": [],
   "source": []
  }
 ],
 "metadata": {
  "accelerator": "GPU",
  "colab": {
   "name": "Untitled1.ipynb",
   "provenance": []
  },
  "kernelspec": {
   "display_name": "Python 3",
   "language": "python",
   "name": "python3"
  },
  "language_info": {
   "codemirror_mode": {
    "name": "ipython",
    "version": 3
   },
   "file_extension": ".py",
   "mimetype": "text/x-python",
   "name": "python",
   "nbconvert_exporter": "python",
   "pygments_lexer": "ipython3",
   "version": "3.8.3"
  }
 },
 "nbformat": 4,
 "nbformat_minor": 1
}
