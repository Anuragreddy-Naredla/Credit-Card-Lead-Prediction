{
 "cells": [
  {
   "cell_type": "code",
   "execution_count": 1,
   "metadata": {
    "id": "RyuRz35ozv6l"
   },
   "outputs": [],
   "source": [
    "import numpy as np\n",
    "import pandas as pd\n",
    "from sklearn.model_selection import train_test_split\n",
    "from sklearn.preprocessing import LabelEncoder \n",
    "from sklearn.linear_model import LogisticRegression\n",
    "from sklearn.metrics import roc_auc_score\n",
    "from sklearn.preprocessing import MinMaxScaler\n",
    "import warnings\n",
    "warnings.filterwarnings(\"ignore\")\n",
    "from sklearn.ensemble import RandomForestClassifier\n",
    "import xgboost as xgb1\n",
    "from xgboost import XGBClassifier"
   ]
  },
  {
   "cell_type": "code",
   "execution_count": 2,
   "metadata": {
    "id": "DwURWiSCzv6m"
   },
   "outputs": [],
   "source": [
    "train_data=pd.read_csv(\"train_s3TEQDk.csv\")\n",
    "test_data=pd.read_csv(\"test_mSzZ8RL.csv\")"
   ]
  },
  {
   "cell_type": "code",
   "execution_count": 3,
   "metadata": {
    "id": "6l3zaykxzv6n"
   },
   "outputs": [],
   "source": [
    "X_train = train_data.drop(['ID','Is_Lead'], axis=1)\n",
    "Y_train = train_data['Is_Lead'].values\n",
    "X_test_data=test_data.drop(['ID'],axis=1)"
   ]
  },
  {
   "cell_type": "code",
   "execution_count": 4,
   "metadata": {
    "id": "Y3qIRp6Szv6n"
   },
   "outputs": [],
   "source": [
    "X_train,X_test,y_train,y_test=train_test_split(X_train,Y_train,test_size = 0.2,random_state=42)"
   ]
  },
  {
   "cell_type": "code",
   "execution_count": 5,
   "metadata": {
    "id": "FKDw7zjxzv6o"
   },
   "outputs": [],
   "source": [
    "X_train['Credit_Product'].fillna('Missing',inplace=True)\n",
    "X_test['Credit_Product'].fillna('Missing',inplace=True)\n",
    "X_test_data['Credit_Product'].fillna('Missing',inplace=True)"
   ]
  },
  {
   "cell_type": "code",
   "execution_count": 6,
   "metadata": {
    "id": "FW2AnTd5zv6o"
   },
   "outputs": [],
   "source": [
    "#Doing Label Encoding to our Categeorical features for train_data\n",
    "label_encoder=LabelEncoder()\n",
    "X_train['Gender']=label_encoder.fit_transform(X_train['Gender'])\n",
    "X_test['Gender']=label_encoder.fit_transform(X_test['Gender'])\n",
    "X_test_data['Gender']=label_encoder.fit_transform(X_test_data['Gender'])\n",
    "\n",
    "X_train['Region_Code']=label_encoder.fit_transform(X_train['Region_Code'])\n",
    "X_test['Region_Code']=label_encoder.fit_transform(X_test['Region_Code'])\n",
    "X_test_data['Region_Code']=label_encoder.fit_transform(X_test_data['Region_Code'])\n",
    "\n",
    "X_train['Occupation']=label_encoder.fit_transform(X_train['Occupation'])\n",
    "X_test['Occupation']=label_encoder.fit_transform(X_test['Occupation'])\n",
    "X_test_data['Occupation']=label_encoder.fit_transform(X_test_data['Occupation'])\n",
    "\n",
    "X_train['Channel_Code']=label_encoder.fit_transform(X_train['Channel_Code'])\n",
    "X_test['Channel_Code']=label_encoder.fit_transform(X_test['Channel_Code'])\n",
    "X_test_data['Channel_Code']=label_encoder.fit_transform(X_test_data['Channel_Code'])\n",
    "\n",
    "X_train['Credit_Product']=label_encoder.fit_transform(X_train['Credit_Product'])\n",
    "X_test['Credit_Product']=label_encoder.fit_transform(X_test['Credit_Product'])\n",
    "X_test_data['Credit_Product']=label_encoder.fit_transform(X_test_data['Credit_Product'])\n",
    "\n",
    "X_train['Is_Active']=label_encoder.fit_transform(X_train['Is_Active'])\n",
    "X_test['Is_Active']=label_encoder.fit_transform(X_test['Is_Active'])\n",
    "X_test_data['Is_Active']=label_encoder.fit_transform(X_test_data['Is_Active'])"
   ]
  },
  {
   "cell_type": "code",
   "execution_count": 7,
   "metadata": {
    "id": "wdKI5q7Bzv6p"
   },
   "outputs": [],
   "source": [
    "scaling=MinMaxScaler()\n",
    "X_train[['Age','Vintage','Avg_Account_Balance']]=scaling.fit_transform(X_train[['Age','Vintage','Avg_Account_Balance']])\n",
    "X_test[['Age','Vintage','Avg_Account_Balance']]=scaling.fit_transform(X_test[['Age','Vintage','Avg_Account_Balance']])\n",
    "X_test_data[['Age','Vintage','Avg_Account_Balance']]=scaling.fit_transform(X_test_data[['Age','Vintage','Avg_Account_Balance']])"
   ]
  },
  {
   "cell_type": "markdown",
   "metadata": {
    "id": "K-bVREvhzv6q"
   },
   "source": [
    "#### a.LogisticRegression"
   ]
  },
  {
   "cell_type": "code",
   "execution_count": null,
   "metadata": {
    "id": "srjYVfy1zv6q",
    "outputId": "ba657fd8-2242-475d-cecd-046a0140c4ae"
   },
   "outputs": [
    {
     "name": "stdout",
     "output_type": "stream",
     "text": [
      "0.7256740410848981\n"
     ]
    }
   ],
   "source": [
    "model1 = LogisticRegression()\n",
    "model1.fit(X_train, y_train)\n",
    "pred_prob1 = model1.predict_proba(X_test)\n",
    "auc_score1 = roc_auc_score(y_test, pred_prob1[:,1])\n",
    "print(auc_score1)"
   ]
  },
  {
   "cell_type": "code",
   "execution_count": null,
   "metadata": {
    "id": "6z2x6stkzv6r"
   },
   "outputs": [],
   "source": [
    "predictions_on_test_data=model1.predict(X_test_data)\n",
    "submission=pd.read_csv(\"sample_submission_eyYijxG.csv\")\n",
    "submission['Is_Lead']=predictions_on_test_data\n",
    "submission.to_csv('submissions_hackathon/LE_mms_logitic_regression_submission.csv',index=False)"
   ]
  },
  {
   "cell_type": "markdown",
   "metadata": {
    "id": "3NMLsqtozv6r"
   },
   "source": [
    "#### b.Random Forest Classifier"
   ]
  },
  {
   "cell_type": "code",
   "execution_count": null,
   "metadata": {
    "id": "joQiSNLqzv6r",
    "outputId": "e2b26539-9c88-47c5-b27d-79302f177ded"
   },
   "outputs": [
    {
     "name": "stdout",
     "output_type": "stream",
     "text": [
      "10\n",
      "Roc_score= 0.8335547550267097\n",
      "50\n",
      "Roc_score= 0.8495813765275008\n",
      "100\n",
      "Roc_score= 0.8522954765343789\n",
      "500\n",
      "Roc_score= 0.8543893516289519\n",
      "1000\n",
      "Roc_score= 0.854936619895912\n",
      "2000\n",
      "Roc_score= 0.8550563587591994\n"
     ]
    }
   ],
   "source": [
    "alpha=[10,50,100,500,1000,2000]\n",
    "cv_log_error_array=[]\n",
    "for i in alpha:\n",
    "    model2=RandomForestClassifier(n_estimators=i,random_state=24,n_jobs=-1)\n",
    "    model2.fit(X_train,y_train)\n",
    "    pred_prob2 = model2.predict_proba(X_test)\n",
    "    auc_score2 = roc_auc_score(y_test, pred_prob2[:,1])\n",
    "    print(i)\n",
    "    print(\"Roc_score=\",auc_score2)"
   ]
  },
  {
   "cell_type": "code",
   "execution_count": null,
   "metadata": {
    "id": "7S5OUkCkzv6s",
    "outputId": "8427a34f-1ae0-4767-9d32-5916e4142b70"
   },
   "outputs": [
    {
     "name": "stdout",
     "output_type": "stream",
     "text": [
      "0.8547065352958708\n"
     ]
    }
   ],
   "source": [
    "model2 = RandomForestClassifier(n_estimators=2000)\n",
    "model2.fit(X_train, y_train)\n",
    "pred_prob2 = model2.predict_proba(X_test)\n",
    "auc_score2 = roc_auc_score(y_test, pred_prob2[:,1])\n",
    "print(auc_score2)"
   ]
  },
  {
   "cell_type": "code",
   "execution_count": null,
   "metadata": {
    "id": "_4G4r2iTzv6s"
   },
   "outputs": [],
   "source": [
    "predictions_on_test_data2=model2.predict(X_test_data)\n",
    "submission=pd.read_csv(\"sample_submission_eyYijxG.csv\")\n",
    "submission['Is_Lead']=predictions_on_test_data2\n",
    "submission.to_csv('submissions_hackathon/LE_mms_Random_Forest_submission.csv',index=False)"
   ]
  },
  {
   "cell_type": "markdown",
   "metadata": {
    "id": "tjsw0yfnzv6s"
   },
   "source": [
    "#### XGBoost"
   ]
  },
  {
   "cell_type": "code",
   "execution_count": null,
   "metadata": {
    "id": "JVfIRkDfzv6t",
    "outputId": "a26bee21-c3b9-4881-f14b-11d6f5259632"
   },
   "outputs": [
    {
     "name": "stdout",
     "output_type": "stream",
     "text": [
      "0.8714234782309651\n"
     ]
    }
   ],
   "source": [
    "model3 =XGBClassifier(subsample=1,n_estimators=1000,min_child_weight=7,max_depth=5,learning_rate=0.01,\n",
    "                      colsample_bytree=1)\n",
    "model3.fit(X_train,y_train)\n",
    "pred_prob3 = model3.predict_proba(X_test)\n",
    "auc_score3 = roc_auc_score(y_test, pred_prob3[:,1])\n",
    "print(auc_score3)"
   ]
  },
  {
   "cell_type": "code",
   "execution_count": null,
   "metadata": {
    "id": "4OP5jtKdzv6t"
   },
   "outputs": [],
   "source": [
    "predictions_on_test_data2=model3.predict(X_test_data)\n",
    "submission=pd.read_csv(\"sample_submission_eyYijxG.csv\")\n",
    "submission['Is_Lead']=predictions_on_test_data2\n",
    "submission.to_csv('submissions_hackathon/XGB_MMS_LE_submission.csv',index=False)"
   ]
  },
  {
   "cell_type": "markdown",
   "metadata": {
    "id": "gmOVafKYzv6u"
   },
   "source": [
    "#### MLP"
   ]
  },
  {
   "cell_type": "code",
   "execution_count": 8,
   "metadata": {
    "id": "peGhRcrFzv6u"
   },
   "outputs": [],
   "source": [
    "import tensorflow as tf \n",
    "from tensorflow.keras.layers import Dense\n",
    "from tensorflow.keras.layers import BatchNormalization\n",
    "from tensorflow.keras.layers import PReLU,Dropout\n",
    "from tensorflow.keras import Sequential\n",
    "from keras.callbacks import Callback"
   ]
  },
  {
   "cell_type": "code",
   "execution_count": 9,
   "metadata": {
    "id": "EvrRvDfazv6u"
   },
   "outputs": [],
   "source": [
    "model = Sequential()\n",
    "model.add(Dense(400, input_dim = X_train.shape[1], kernel_initializer = 'he_normal'))\n",
    "model.add(PReLU())\n",
    "model.add(BatchNormalization())\n",
    "model.add(Dropout(0.4))\n",
    "model.add(Dense(200, kernel_initializer='he_normal'))\n",
    "model.add(PReLU())\n",
    "model.add(BatchNormalization())    \n",
    "model.add(Dropout(0.2))\n",
    "model.add(Dense(50, kernel_initializer = 'he_normal'))\n",
    "model.add(PReLU())\n",
    "model.add(BatchNormalization())    \n",
    "model.add(Dropout(0.2))\n",
    "model.add(Dense(1, kernel_initializer = 'he_normal'))\n",
    "#model.compile(optimizer='adam',loss=tf.keras.losses.BinaryCrossentropy(from_logits=True),metrics=[tf.keras.metrics.AUC(from_logits=True)])"
   ]
  },
  {
   "cell_type": "code",
   "execution_count": 10,
   "metadata": {
    "colab": {
     "base_uri": "https://localhost:8080/"
    },
    "id": "okug6V0mzv6u",
    "outputId": "9db57099-136e-4210-d6e1-8dcfa590797d"
   },
   "outputs": [
    {
     "name": "stdout",
     "output_type": "stream",
     "text": [
      "Model: \"sequential\"\n",
      "_________________________________________________________________\n",
      "Layer (type)                 Output Shape              Param #   \n",
      "=================================================================\n",
      "dense (Dense)                (None, 400)               4000      \n",
      "_________________________________________________________________\n",
      "p_re_lu (PReLU)              (None, 400)               400       \n",
      "_________________________________________________________________\n",
      "batch_normalization (BatchNo (None, 400)               1600      \n",
      "_________________________________________________________________\n",
      "dropout (Dropout)            (None, 400)               0         \n",
      "_________________________________________________________________\n",
      "dense_1 (Dense)              (None, 200)               80200     \n",
      "_________________________________________________________________\n",
      "p_re_lu_1 (PReLU)            (None, 200)               200       \n",
      "_________________________________________________________________\n",
      "batch_normalization_1 (Batch (None, 200)               800       \n",
      "_________________________________________________________________\n",
      "dropout_1 (Dropout)          (None, 200)               0         \n",
      "_________________________________________________________________\n",
      "dense_2 (Dense)              (None, 50)                10050     \n",
      "_________________________________________________________________\n",
      "p_re_lu_2 (PReLU)            (None, 50)                50        \n",
      "_________________________________________________________________\n",
      "batch_normalization_2 (Batch (None, 50)                200       \n",
      "_________________________________________________________________\n",
      "dropout_2 (Dropout)          (None, 50)                0         \n",
      "_________________________________________________________________\n",
      "dense_3 (Dense)              (None, 1)                 51        \n",
      "=================================================================\n",
      "Total params: 97,551\n",
      "Trainable params: 96,251\n",
      "Non-trainable params: 1,300\n",
      "_________________________________________________________________\n"
     ]
    }
   ],
   "source": [
    "model.summary()"
   ]
  },
  {
   "cell_type": "code",
   "execution_count": 9,
   "metadata": {
    "id": "1C-CPhNO8Ssq"
   },
   "outputs": [],
   "source": [
    "class LossHistory(Callback):\n",
    "    def __init__(self, train, validation=None):\n",
    "        super(LossHistory, self).__init__()\n",
    "        self.validation = validation\n",
    "        self.train = train\n",
    "    def on_epoch_end(self, epoch, logs={}):\n",
    "        X_train,Y_train = self.train[0], self.train[1]\n",
    "        predictions = self.model.predict(X_train).ravel()\n",
    "        logs['roc_auc_score_train'] = roc_auc_score(Y_train,predictions)\n",
    "        if self.validation:\n",
    "            X_val,Y_val = self.validation[0], self.validation[1]\n",
    "            predictions = self.model.predict(X_val).ravel()\n",
    "            logs['roc_auc_score_val'] = roc_auc_score(Y_val,predictions)\n",
    "history_own=LossHistory(train=(X_train,y_train),validation=(X_test,y_test))"
   ]
  },
  {
   "cell_type": "code",
   "execution_count": 10,
   "metadata": {
    "id": "fwRJ1gfh8Sue"
   },
   "outputs": [],
   "source": [
    "callbacks = [history_own]"
   ]
  },
  {
   "cell_type": "code",
   "execution_count": null,
   "metadata": {
    "colab": {
     "base_uri": "https://localhost:8080/"
    },
    "id": "S6_KAkXq8Sx5",
    "outputId": "c640a60f-1580-4df7-a4d3-fda67a122fc8"
   },
   "outputs": [
    {
     "name": "stdout",
     "output_type": "stream",
     "text": [
      "Epoch 1/20\n",
      "24573/24573 [==============================] - 76s 3ms/step - loss: 3.1022 - accuracy: 0.7546 - val_loss: 2.2516 - val_accuracy: 0.8428 - roc_auc_score_train: 0.7081 - roc_auc_score_val: 0.7086\n",
      "Epoch 2/20\n",
      "24573/24573 [==============================] - 66s 3ms/step - loss: 1.3758 - accuracy: 0.7619 - val_loss: 0.6178 - val_accuracy: 0.8433 - roc_auc_score_train: 0.7821 - roc_auc_score_val: 0.7866\n",
      "Epoch 3/20\n",
      "24573/24573 [==============================] - 71s 3ms/step - loss: 0.5569 - accuracy: 0.7970 - val_loss: 0.4448 - val_accuracy: 0.8419 - roc_auc_score_train: 0.7924 - roc_auc_score_val: 0.7901\n",
      "Epoch 4/20\n",
      "24573/24573 [==============================] - 82s 3ms/step - loss: 0.4763 - accuracy: 0.8110 - val_loss: 0.4619 - val_accuracy: 0.8468 - roc_auc_score_train: 0.8361 - roc_auc_score_val: 0.8364\n",
      "Epoch 5/20\n",
      "24573/24573 [==============================] - 88s 4ms/step - loss: 0.4535 - accuracy: 0.8253 - val_loss: 0.5520 - val_accuracy: 0.8470 - roc_auc_score_train: 0.8563 - roc_auc_score_val: 0.8546\n",
      "Epoch 6/20\n",
      "24573/24573 [==============================] - 84s 3ms/step - loss: 0.4487 - accuracy: 0.8268 - val_loss: 0.3852 - val_accuracy: 0.8478 - roc_auc_score_train: 0.8497 - roc_auc_score_val: 0.8455\n",
      "Epoch 7/20\n",
      "24573/24573 [==============================] - 69s 3ms/step - loss: 0.4381 - accuracy: 0.8286 - val_loss: 0.4300 - val_accuracy: 0.8466 - roc_auc_score_train: 0.8386 - roc_auc_score_val: 0.8349\n",
      "Epoch 8/20\n",
      "24573/24573 [==============================] - 80s 3ms/step - loss: 0.4355 - accuracy: 0.8298 - val_loss: 0.4398 - val_accuracy: 0.8478 - roc_auc_score_train: 0.8570 - roc_auc_score_val: 0.8550\n",
      "Epoch 9/20\n",
      "24573/24573 [==============================] - 75s 3ms/step - loss: 0.4335 - accuracy: 0.8316 - val_loss: 0.5919 - val_accuracy: 0.8489 - roc_auc_score_train: 0.8577 - roc_auc_score_val: 0.8553\n",
      "Epoch 10/20\n",
      "24573/24573 [==============================] - 66s 3ms/step - loss: 0.4344 - accuracy: 0.8320 - val_loss: 0.3933 - val_accuracy: 0.8485 - roc_auc_score_train: 0.8580 - roc_auc_score_val: 0.8554\n",
      "Epoch 11/20\n",
      "24573/24573 [==============================] - 75s 3ms/step - loss: 0.4368 - accuracy: 0.8301 - val_loss: 0.3773 - val_accuracy: 0.8489 - roc_auc_score_train: 0.8590 - roc_auc_score_val: 0.8569\n",
      "Epoch 12/20\n",
      "24573/24573 [==============================] - 90s 4ms/step - loss: 0.4345 - accuracy: 0.8327 - val_loss: 0.5779 - val_accuracy: 0.8471 - roc_auc_score_train: 0.8560 - roc_auc_score_val: 0.8531\n",
      "Epoch 13/20\n",
      "24573/24573 [==============================] - 101s 4ms/step - loss: 0.4332 - accuracy: 0.8300 - val_loss: 0.4758 - val_accuracy: 0.8467 - roc_auc_score_train: 0.8565 - roc_auc_score_val: 0.8531\n",
      "Epoch 14/20\n",
      "15457/24573 [=================>............] - ETA: 27s - loss: 0.4317 - accuracy: 0.8333"
     ]
    }
   ],
   "source": [
    "model.compile(optimizer='adam', loss='binary_crossentropy',metrics=['accuracy'])\n",
    "model.fit(X_train,y_train,batch_size=8,epochs=20,callbacks=callbacks,validation_data=(X_test,y_test))"
   ]
  },
  {
   "cell_type": "code",
   "execution_count": 14,
   "metadata": {},
   "outputs": [
    {
     "name": "stdout",
     "output_type": "stream",
     "text": [
      "Epoch 1/20\n",
      "6144/6144 [==============================] - 27s 4ms/step - loss: 0.3929 - accuracy: 0.8410 - val_loss: 0.3627 - val_accuracy: 0.8529 - roc_auc_score_train: 0.8649 - roc_auc_score_val: 0.8624\n",
      "Epoch 2/20\n",
      "6144/6144 [==============================] - 37s 6ms/step - loss: 0.3878 - accuracy: 0.8447 - val_loss: 0.3634 - val_accuracy: 0.8533 - roc_auc_score_train: 0.8652 - roc_auc_score_val: 0.8620\n",
      "Epoch 3/20\n",
      "6144/6144 [==============================] - 28s 5ms/step - loss: 0.3926 - accuracy: 0.8442 - val_loss: 0.3640 - val_accuracy: 0.8526 - roc_auc_score_train: 0.8654 - roc_auc_score_val: 0.8621\n",
      "Epoch 4/20\n",
      "6144/6144 [==============================] - 27s 4ms/step - loss: 0.3892 - accuracy: 0.8454 - val_loss: 0.3643 - val_accuracy: 0.8546 - roc_auc_score_train: 0.8656 - roc_auc_score_val: 0.8625\n",
      "Epoch 5/20\n",
      "6144/6144 [==============================] - 26s 4ms/step - loss: 0.3916 - accuracy: 0.8407 - val_loss: 0.3666 - val_accuracy: 0.8544 - roc_auc_score_train: 0.8667 - roc_auc_score_val: 0.8632\n",
      "Epoch 6/20\n",
      "6144/6144 [==============================] - 27s 4ms/step - loss: 0.3914 - accuracy: 0.8406 - val_loss: 0.3646 - val_accuracy: 0.8541 - roc_auc_score_train: 0.8669 - roc_auc_score_val: 0.8639\n",
      "Epoch 7/20\n",
      "6144/6144 [==============================] - 27s 4ms/step - loss: 0.3952 - accuracy: 0.8450 - val_loss: 0.4284 - val_accuracy: 0.8490 - roc_auc_score_train: 0.8471 - roc_auc_score_val: 0.8434\n",
      "Epoch 8/20\n",
      "6144/6144 [==============================] - 26s 4ms/step - loss: 0.4004 - accuracy: 0.8451 - val_loss: 0.3643 - val_accuracy: 0.8538 - roc_auc_score_train: 0.8657 - roc_auc_score_val: 0.8629\n",
      "Epoch 9/20\n",
      "6144/6144 [==============================] - 26s 4ms/step - loss: 0.3863 - accuracy: 0.8464 - val_loss: 0.3702 - val_accuracy: 0.8552 - roc_auc_score_train: 0.8680 - roc_auc_score_val: 0.8647\n",
      "Epoch 10/20\n",
      "6144/6144 [==============================] - 26s 4ms/step - loss: 0.3850 - accuracy: 0.8455 - val_loss: 0.3602 - val_accuracy: 0.8551 - roc_auc_score_train: 0.8674 - roc_auc_score_val: 0.8640\n",
      "Epoch 11/20\n",
      "6144/6144 [==============================] - 28s 4ms/step - loss: 0.3831 - accuracy: 0.8486 - val_loss: 0.3579 - val_accuracy: 0.8547 - roc_auc_score_train: 0.8689 - roc_auc_score_val: 0.8640\n",
      "Epoch 12/20\n",
      "6144/6144 [==============================] - 27s 4ms/step - loss: 0.3855 - accuracy: 0.8491 - val_loss: 0.3598 - val_accuracy: 0.8553 - roc_auc_score_train: 0.8694 - roc_auc_score_val: 0.8652\n",
      "Epoch 13/20\n",
      "6144/6144 [==============================] - 33s 5ms/step - loss: 0.3838 - accuracy: 0.8462 - val_loss: 0.3621 - val_accuracy: 0.8554 - roc_auc_score_train: 0.8686 - roc_auc_score_val: 0.8653\n",
      "Epoch 14/20\n",
      "6144/6144 [==============================] - 33s 5ms/step - loss: 0.3853 - accuracy: 0.8488 - val_loss: 0.4103 - val_accuracy: 0.8531 - roc_auc_score_train: 0.8667 - roc_auc_score_val: 0.8612\n",
      "Epoch 15/20\n",
      "6144/6144 [==============================] - 36s 6ms/step - loss: 0.3853 - accuracy: 0.8465 - val_loss: 0.3753 - val_accuracy: 0.8540 - roc_auc_score_train: 0.8672 - roc_auc_score_val: 0.8649\n",
      "Epoch 16/20\n",
      "6144/6144 [==============================] - 29s 5ms/step - loss: 0.3849 - accuracy: 0.8467 - val_loss: 0.3591 - val_accuracy: 0.8553 - roc_auc_score_train: 0.8683 - roc_auc_score_val: 0.8657\n",
      "Epoch 17/20\n",
      "6144/6144 [==============================] - 27s 4ms/step - loss: 0.3841 - accuracy: 0.8478 - val_loss: 0.3770 - val_accuracy: 0.8538 - roc_auc_score_train: 0.8647 - roc_auc_score_val: 0.8616\n",
      "Epoch 18/20\n",
      "6144/6144 [==============================] - 27s 4ms/step - loss: 0.3824 - accuracy: 0.8503 - val_loss: 0.3550 - val_accuracy: 0.8572 - roc_auc_score_train: 0.8706 - roc_auc_score_val: 0.8671\n",
      "Epoch 19/20\n",
      "6144/6144 [==============================] - 29s 5ms/step - loss: 0.3835 - accuracy: 0.8495 - val_loss: 0.3565 - val_accuracy: 0.8555 - roc_auc_score_train: 0.8704 - roc_auc_score_val: 0.8666\n",
      "Epoch 20/20\n",
      "6144/6144 [==============================] - 28s 5ms/step - loss: 0.3813 - accuracy: 0.8502 - val_loss: 0.3563 - val_accuracy: 0.8573 - roc_auc_score_train: 0.8708 - roc_auc_score_val: 0.8658\n"
     ]
    },
    {
     "data": {
      "text/plain": [
       "<tensorflow.python.keras.callbacks.History at 0x1e0141d41f0>"
      ]
     },
     "execution_count": 14,
     "metadata": {},
     "output_type": "execute_result"
    }
   ],
   "source": [
    "model.fit(X_train,y_train,batch_size=32,epochs=20,callbacks=callbacks,validation_data=(X_test,y_test))"
   ]
  },
  {
   "cell_type": "code",
   "execution_count": 15,
   "metadata": {},
   "outputs": [
    {
     "name": "stdout",
     "output_type": "stream",
     "text": [
      "Epoch 1/20\n",
      "12287/12287 [==============================] - 43s 4ms/step - loss: 0.3961 - accuracy: 0.8479 - val_loss: 0.3564 - val_accuracy: 0.8563 - roc_auc_score_train: 0.8699 - roc_auc_score_val: 0.8667\n",
      "Epoch 2/20\n",
      "12287/12287 [==============================] - 39s 3ms/step - loss: 0.3968 - accuracy: 0.8447 - val_loss: 0.3589 - val_accuracy: 0.8572 - roc_auc_score_train: 0.8710 - roc_auc_score_val: 0.8670\n",
      "Epoch 3/20\n",
      "12287/12287 [==============================] - 40s 3ms/step - loss: 0.3962 - accuracy: 0.8445 - val_loss: 0.3594 - val_accuracy: 0.8570 - roc_auc_score_train: 0.8701 - roc_auc_score_val: 0.8667\n",
      "Epoch 4/20\n",
      "12287/12287 [==============================] - 40s 3ms/step - loss: 0.4009 - accuracy: 0.8464 - val_loss: 0.3831 - val_accuracy: 0.8561 - roc_auc_score_train: 0.8692 - roc_auc_score_val: 0.8663\n",
      "Epoch 5/20\n",
      "12287/12287 [==============================] - 40s 3ms/step - loss: 0.4015 - accuracy: 0.8407 - val_loss: 0.3556 - val_accuracy: 0.8573 - roc_auc_score_train: 0.8702 - roc_auc_score_val: 0.8677\n",
      "Epoch 6/20\n",
      "12287/12287 [==============================] - 40s 3ms/step - loss: 0.3946 - accuracy: 0.8463 - val_loss: 0.3586 - val_accuracy: 0.8566 - roc_auc_score_train: 0.8693 - roc_auc_score_val: 0.8667\n",
      "Epoch 7/20\n",
      "12287/12287 [==============================] - 41s 3ms/step - loss: 0.3955 - accuracy: 0.8420 - val_loss: 0.3554 - val_accuracy: 0.8566 - roc_auc_score_train: 0.8712 - roc_auc_score_val: 0.8686\n",
      "Epoch 8/20\n",
      "12287/12287 [==============================] - 42s 3ms/step - loss: 0.3965 - accuracy: 0.8457 - val_loss: 0.3577 - val_accuracy: 0.8569 - roc_auc_score_train: 0.8698 - roc_auc_score_val: 0.8668\n",
      "Epoch 9/20\n",
      "12287/12287 [==============================] - 41s 3ms/step - loss: 0.3944 - accuracy: 0.8443 - val_loss: 0.3536 - val_accuracy: 0.8576 - roc_auc_score_train: 0.8714 - roc_auc_score_val: 0.8689\n",
      "Epoch 10/20\n",
      "12287/12287 [==============================] - 41s 3ms/step - loss: 0.3963 - accuracy: 0.8449 - val_loss: 0.3656 - val_accuracy: 0.8540 - roc_auc_score_train: 0.8675 - roc_auc_score_val: 0.8631\n",
      "Epoch 11/20\n",
      "12287/12287 [==============================] - 41s 3ms/step - loss: 0.3920 - accuracy: 0.8465 - val_loss: 0.3567 - val_accuracy: 0.8582 - roc_auc_score_train: 0.8715 - roc_auc_score_val: 0.8682\n",
      "Epoch 12/20\n",
      "12287/12287 [==============================] - 41s 3ms/step - loss: 0.3937 - accuracy: 0.8454 - val_loss: 0.3536 - val_accuracy: 0.8580 - roc_auc_score_train: 0.8716 - roc_auc_score_val: 0.8677\n",
      "Epoch 13/20\n",
      "12287/12287 [==============================] - 41s 3ms/step - loss: 0.3926 - accuracy: 0.8453 - val_loss: 0.3582 - val_accuracy: 0.8577 - roc_auc_score_train: 0.8709 - roc_auc_score_val: 0.8671\n",
      "Epoch 14/20\n",
      "12287/12287 [==============================] - 41s 3ms/step - loss: 0.3927 - accuracy: 0.8479 - val_loss: 0.3586 - val_accuracy: 0.8572 - roc_auc_score_train: 0.8703 - roc_auc_score_val: 0.8655\n",
      "Epoch 15/20\n",
      "12287/12287 [==============================] - 41s 3ms/step - loss: 0.3943 - accuracy: 0.8441 - val_loss: 0.3719 - val_accuracy: 0.8557 - roc_auc_score_train: 0.8710 - roc_auc_score_val: 0.8675\n",
      "Epoch 16/20\n",
      "12287/12287 [==============================] - 41s 3ms/step - loss: 0.3906 - accuracy: 0.8476 - val_loss: 0.3599 - val_accuracy: 0.8583 - roc_auc_score_train: 0.8720 - roc_auc_score_val: 0.8682\n",
      "Epoch 17/20\n",
      "12287/12287 [==============================] - 43s 3ms/step - loss: 0.3952 - accuracy: 0.8432 - val_loss: 0.4237 - val_accuracy: 0.8569 - roc_auc_score_train: 0.8697 - roc_auc_score_val: 0.8647\n",
      "Epoch 18/20\n",
      "12287/12287 [==============================] - 41s 3ms/step - loss: 0.3914 - accuracy: 0.8466 - val_loss: 0.3594 - val_accuracy: 0.8575 - roc_auc_score_train: 0.8716 - roc_auc_score_val: 0.8680\n",
      "Epoch 19/20\n",
      "12287/12287 [==============================] - 45s 4ms/step - loss: 0.3943 - accuracy: 0.8432 - val_loss: 0.3553 - val_accuracy: 0.8579 - roc_auc_score_train: 0.8719 - roc_auc_score_val: 0.8684\n",
      "Epoch 20/20\n",
      "12287/12287 [==============================] - 57s 5ms/step - loss: 0.3952 - accuracy: 0.8469 - val_loss: 0.3520 - val_accuracy: 0.8585 - roc_auc_score_train: 0.8720 - roc_auc_score_val: 0.8685\n"
     ]
    },
    {
     "data": {
      "text/plain": [
       "<tensorflow.python.keras.callbacks.History at 0x21407505070>"
      ]
     },
     "execution_count": 15,
     "metadata": {},
     "output_type": "execute_result"
    }
   ],
   "source": [
    "model.fit(X_train,y_train,batch_size=,epochs=20,callbacks=callbacks,validation_data=(X_test,y_test))"
   ]
  },
  {
   "cell_type": "code",
   "execution_count": 16,
   "metadata": {
    "id": "rxuJVXB0zv6v"
   },
   "outputs": [],
   "source": [
    "predictions_on_test_data3=model.predict(X_test_data)\n",
    "submission=pd.read_csv(\"sample_submission_eyYijxG.csv\")\n",
    "submission['Is_Lead']=predictions_on_test_data3\n",
    "submission.to_csv('submissions_hackathon/MLP3_callbacks2_MMS_LE_submission.csv',index=False)"
   ]
  },
  {
   "cell_type": "markdown",
   "metadata": {},
   "source": [
    "#### LSTM"
   ]
  },
  {
   "cell_type": "code",
   "execution_count": 11,
   "metadata": {},
   "outputs": [],
   "source": [
    "#Convert to numpy arrays\n",
    "X_train, y_train = np.array(X_train), np.array(y_train)\n",
    "\n",
    "#Reshape the data into 3-D array\n",
    "X_train = np.reshape(X_train, (X_train.shape[0],X_train.shape[1],1))"
   ]
  },
  {
   "cell_type": "code",
   "execution_count": 12,
   "metadata": {},
   "outputs": [],
   "source": [
    "from keras import layers\n",
    "model3 = Sequential()\n",
    "\n",
    "model3.add(layers.LSTM(units = 50, return_sequences = True, input_shape = (9, 1)))\n",
    "model3.add(layers.Dropout(0.2))\n",
    "\n",
    "# Adding a second LSTM layer and Dropout layer\n",
    "model3.add(layers.LSTM(units = 50, return_sequences = True))\n",
    "model3.add(layers.Dropout(0.2))\n",
    "\n",
    "# Adding a third LSTM layer and Dropout layer\n",
    "model3.add(layers.LSTM(units = 50, return_sequences = True))\n",
    "model3.add(Dropout(0.2))\n",
    "\n",
    "# Adding a fourth LSTM layer and and Dropout layer\n",
    "model3.add(layers.LSTM(units = 50))\n",
    "model3.add(layers.Dropout(0.2))\n",
    "\n",
    "# Adding the output layer\n",
    "# For Full connection layer we use dense\n",
    "# As the output is 1D so we use unit=1\n",
    "model3.add(layers.Dense(units = 1,activation='sigmoid'))"
   ]
  },
  {
   "cell_type": "code",
   "execution_count": 13,
   "metadata": {},
   "outputs": [
    {
     "name": "stdout",
     "output_type": "stream",
     "text": [
      "Model: \"sequential\"\n",
      "_________________________________________________________________\n",
      "Layer (type)                 Output Shape              Param #   \n",
      "=================================================================\n",
      "lstm (LSTM)                  (None, 9, 50)             10400     \n",
      "_________________________________________________________________\n",
      "dropout (Dropout)            (None, 9, 50)             0         \n",
      "_________________________________________________________________\n",
      "lstm_1 (LSTM)                (None, 9, 50)             20200     \n",
      "_________________________________________________________________\n",
      "dropout_1 (Dropout)          (None, 9, 50)             0         \n",
      "_________________________________________________________________\n",
      "lstm_2 (LSTM)                (None, 9, 50)             20200     \n",
      "_________________________________________________________________\n",
      "dropout_2 (Dropout)          (None, 9, 50)             0         \n",
      "_________________________________________________________________\n",
      "lstm_3 (LSTM)                (None, 50)                20200     \n",
      "_________________________________________________________________\n",
      "dropout_3 (Dropout)          (None, 50)                0         \n",
      "_________________________________________________________________\n",
      "dense (Dense)                (None, 1)                 51        \n",
      "=================================================================\n",
      "Total params: 71,051\n",
      "Trainable params: 71,051\n",
      "Non-trainable params: 0\n",
      "_________________________________________________________________\n"
     ]
    }
   ],
   "source": [
    "model3.summary()"
   ]
  },
  {
   "cell_type": "code",
   "execution_count": 14,
   "metadata": {},
   "outputs": [
    {
     "name": "stdout",
     "output_type": "stream",
     "text": [
      "Epoch 1/20\n",
      "24573/24573 [==============================] - ETA: 0s - loss: 0.4012 - accuracy: 0.8317"
     ]
    },
    {
     "ename": "ValueError",
     "evalue": "in user code:\n\n    c:\\users\\anuragreddy\\appdata\\local\\programs\\python\\python38\\lib\\site-packages\\tensorflow\\python\\keras\\engine\\training.py:941 test_function  *\n        outputs = self.distribute_strategy.run(\n    c:\\users\\anuragreddy\\appdata\\local\\programs\\python\\python38\\lib\\site-packages\\tensorflow\\python\\distribute\\distribute_lib.py:951 run  **\n        return self._extended.call_for_each_replica(fn, args=args, kwargs=kwargs)\n    c:\\users\\anuragreddy\\appdata\\local\\programs\\python\\python38\\lib\\site-packages\\tensorflow\\python\\distribute\\distribute_lib.py:2290 call_for_each_replica\n        return self._call_for_each_replica(fn, args, kwargs)\n    c:\\users\\anuragreddy\\appdata\\local\\programs\\python\\python38\\lib\\site-packages\\tensorflow\\python\\distribute\\distribute_lib.py:2649 _call_for_each_replica\n        return fn(*args, **kwargs)\n    c:\\users\\anuragreddy\\appdata\\local\\programs\\python\\python38\\lib\\site-packages\\tensorflow\\python\\keras\\engine\\training.py:909 test_step  **\n        y_pred = self(x, training=False)\n    c:\\users\\anuragreddy\\appdata\\local\\programs\\python\\python38\\lib\\site-packages\\tensorflow\\python\\keras\\engine\\base_layer.py:885 __call__\n        input_spec.assert_input_compatibility(self.input_spec, inputs,\n    c:\\users\\anuragreddy\\appdata\\local\\programs\\python\\python38\\lib\\site-packages\\tensorflow\\python\\keras\\engine\\input_spec.py:176 assert_input_compatibility\n        raise ValueError('Input ' + str(input_index) + ' of layer ' +\n\n    ValueError: Input 0 of layer sequential is incompatible with the layer: expected ndim=3, found ndim=2. Full shape received: [None, 9]\n",
     "output_type": "error",
     "traceback": [
      "\u001b[1;31m---------------------------------------------------------------------------\u001b[0m",
      "\u001b[1;31mValueError\u001b[0m                                Traceback (most recent call last)",
      "\u001b[1;32m<ipython-input-14-cb19eb8acd55>\u001b[0m in \u001b[0;36m<module>\u001b[1;34m\u001b[0m\n\u001b[0;32m      1\u001b[0m \u001b[0mmodel3\u001b[0m\u001b[1;33m.\u001b[0m\u001b[0mcompile\u001b[0m\u001b[1;33m(\u001b[0m\u001b[0mloss\u001b[0m\u001b[1;33m=\u001b[0m\u001b[1;34m'binary_crossentropy'\u001b[0m\u001b[1;33m,\u001b[0m\u001b[0moptimizer\u001b[0m\u001b[1;33m=\u001b[0m\u001b[1;34m'adam'\u001b[0m\u001b[1;33m,\u001b[0m\u001b[0mmetrics\u001b[0m\u001b[1;33m=\u001b[0m\u001b[1;33m[\u001b[0m\u001b[1;34m'accuracy'\u001b[0m\u001b[1;33m]\u001b[0m\u001b[1;33m)\u001b[0m\u001b[1;33m\u001b[0m\u001b[1;33m\u001b[0m\u001b[0m\n\u001b[1;32m----> 2\u001b[1;33m \u001b[0mmodel3\u001b[0m\u001b[1;33m.\u001b[0m\u001b[0mfit\u001b[0m\u001b[1;33m(\u001b[0m\u001b[0mX_train\u001b[0m\u001b[1;33m,\u001b[0m\u001b[0my_train\u001b[0m\u001b[1;33m,\u001b[0m\u001b[0mbatch_size\u001b[0m\u001b[1;33m=\u001b[0m\u001b[1;36m8\u001b[0m\u001b[1;33m,\u001b[0m\u001b[0mepochs\u001b[0m\u001b[1;33m=\u001b[0m\u001b[1;36m20\u001b[0m\u001b[1;33m,\u001b[0m\u001b[0mcallbacks\u001b[0m\u001b[1;33m=\u001b[0m\u001b[0mcallbacks\u001b[0m\u001b[1;33m,\u001b[0m\u001b[0mvalidation_data\u001b[0m\u001b[1;33m=\u001b[0m\u001b[1;33m(\u001b[0m\u001b[0mX_test\u001b[0m\u001b[1;33m,\u001b[0m\u001b[0my_test\u001b[0m\u001b[1;33m)\u001b[0m\u001b[1;33m)\u001b[0m\u001b[1;33m\u001b[0m\u001b[1;33m\u001b[0m\u001b[0m\n\u001b[0m",
      "\u001b[1;32mc:\\users\\anuragreddy\\appdata\\local\\programs\\python\\python38\\lib\\site-packages\\tensorflow\\python\\keras\\engine\\training.py\u001b[0m in \u001b[0;36m_method_wrapper\u001b[1;34m(self, *args, **kwargs)\u001b[0m\n\u001b[0;32m     64\u001b[0m   \u001b[1;32mdef\u001b[0m \u001b[0m_method_wrapper\u001b[0m\u001b[1;33m(\u001b[0m\u001b[0mself\u001b[0m\u001b[1;33m,\u001b[0m \u001b[1;33m*\u001b[0m\u001b[0margs\u001b[0m\u001b[1;33m,\u001b[0m \u001b[1;33m**\u001b[0m\u001b[0mkwargs\u001b[0m\u001b[1;33m)\u001b[0m\u001b[1;33m:\u001b[0m\u001b[1;33m\u001b[0m\u001b[1;33m\u001b[0m\u001b[0m\n\u001b[0;32m     65\u001b[0m     \u001b[1;32mif\u001b[0m \u001b[1;32mnot\u001b[0m \u001b[0mself\u001b[0m\u001b[1;33m.\u001b[0m\u001b[0m_in_multi_worker_mode\u001b[0m\u001b[1;33m(\u001b[0m\u001b[1;33m)\u001b[0m\u001b[1;33m:\u001b[0m  \u001b[1;31m# pylint: disable=protected-access\u001b[0m\u001b[1;33m\u001b[0m\u001b[1;33m\u001b[0m\u001b[0m\n\u001b[1;32m---> 66\u001b[1;33m       \u001b[1;32mreturn\u001b[0m \u001b[0mmethod\u001b[0m\u001b[1;33m(\u001b[0m\u001b[0mself\u001b[0m\u001b[1;33m,\u001b[0m \u001b[1;33m*\u001b[0m\u001b[0margs\u001b[0m\u001b[1;33m,\u001b[0m \u001b[1;33m**\u001b[0m\u001b[0mkwargs\u001b[0m\u001b[1;33m)\u001b[0m\u001b[1;33m\u001b[0m\u001b[1;33m\u001b[0m\u001b[0m\n\u001b[0m\u001b[0;32m     67\u001b[0m \u001b[1;33m\u001b[0m\u001b[0m\n\u001b[0;32m     68\u001b[0m     \u001b[1;31m# Running inside `run_distribute_coordinator` already.\u001b[0m\u001b[1;33m\u001b[0m\u001b[1;33m\u001b[0m\u001b[1;33m\u001b[0m\u001b[0m\n",
      "\u001b[1;32mc:\\users\\anuragreddy\\appdata\\local\\programs\\python\\python38\\lib\\site-packages\\tensorflow\\python\\keras\\engine\\training.py\u001b[0m in \u001b[0;36mfit\u001b[1;34m(self, x, y, batch_size, epochs, verbose, callbacks, validation_split, validation_data, shuffle, class_weight, sample_weight, initial_epoch, steps_per_epoch, validation_steps, validation_batch_size, validation_freq, max_queue_size, workers, use_multiprocessing)\u001b[0m\n\u001b[0;32m    860\u001b[0m           val_x, val_y, val_sample_weight = (\n\u001b[0;32m    861\u001b[0m               data_adapter.unpack_x_y_sample_weight(validation_data))\n\u001b[1;32m--> 862\u001b[1;33m           val_logs = self.evaluate(\n\u001b[0m\u001b[0;32m    863\u001b[0m               \u001b[0mx\u001b[0m\u001b[1;33m=\u001b[0m\u001b[0mval_x\u001b[0m\u001b[1;33m,\u001b[0m\u001b[1;33m\u001b[0m\u001b[1;33m\u001b[0m\u001b[0m\n\u001b[0;32m    864\u001b[0m               \u001b[0my\u001b[0m\u001b[1;33m=\u001b[0m\u001b[0mval_y\u001b[0m\u001b[1;33m,\u001b[0m\u001b[1;33m\u001b[0m\u001b[1;33m\u001b[0m\u001b[0m\n",
      "\u001b[1;32mc:\\users\\anuragreddy\\appdata\\local\\programs\\python\\python38\\lib\\site-packages\\tensorflow\\python\\keras\\engine\\training.py\u001b[0m in \u001b[0;36m_method_wrapper\u001b[1;34m(self, *args, **kwargs)\u001b[0m\n\u001b[0;32m     64\u001b[0m   \u001b[1;32mdef\u001b[0m \u001b[0m_method_wrapper\u001b[0m\u001b[1;33m(\u001b[0m\u001b[0mself\u001b[0m\u001b[1;33m,\u001b[0m \u001b[1;33m*\u001b[0m\u001b[0margs\u001b[0m\u001b[1;33m,\u001b[0m \u001b[1;33m**\u001b[0m\u001b[0mkwargs\u001b[0m\u001b[1;33m)\u001b[0m\u001b[1;33m:\u001b[0m\u001b[1;33m\u001b[0m\u001b[1;33m\u001b[0m\u001b[0m\n\u001b[0;32m     65\u001b[0m     \u001b[1;32mif\u001b[0m \u001b[1;32mnot\u001b[0m \u001b[0mself\u001b[0m\u001b[1;33m.\u001b[0m\u001b[0m_in_multi_worker_mode\u001b[0m\u001b[1;33m(\u001b[0m\u001b[1;33m)\u001b[0m\u001b[1;33m:\u001b[0m  \u001b[1;31m# pylint: disable=protected-access\u001b[0m\u001b[1;33m\u001b[0m\u001b[1;33m\u001b[0m\u001b[0m\n\u001b[1;32m---> 66\u001b[1;33m       \u001b[1;32mreturn\u001b[0m \u001b[0mmethod\u001b[0m\u001b[1;33m(\u001b[0m\u001b[0mself\u001b[0m\u001b[1;33m,\u001b[0m \u001b[1;33m*\u001b[0m\u001b[0margs\u001b[0m\u001b[1;33m,\u001b[0m \u001b[1;33m**\u001b[0m\u001b[0mkwargs\u001b[0m\u001b[1;33m)\u001b[0m\u001b[1;33m\u001b[0m\u001b[1;33m\u001b[0m\u001b[0m\n\u001b[0m\u001b[0;32m     67\u001b[0m \u001b[1;33m\u001b[0m\u001b[0m\n\u001b[0;32m     68\u001b[0m     \u001b[1;31m# Running inside `run_distribute_coordinator` already.\u001b[0m\u001b[1;33m\u001b[0m\u001b[1;33m\u001b[0m\u001b[1;33m\u001b[0m\u001b[0m\n",
      "\u001b[1;32mc:\\users\\anuragreddy\\appdata\\local\\programs\\python\\python38\\lib\\site-packages\\tensorflow\\python\\keras\\engine\\training.py\u001b[0m in \u001b[0;36mevaluate\u001b[1;34m(self, x, y, batch_size, verbose, sample_weight, steps, callbacks, max_queue_size, workers, use_multiprocessing, return_dict)\u001b[0m\n\u001b[0;32m   1079\u001b[0m                 step_num=step):\n\u001b[0;32m   1080\u001b[0m               \u001b[0mcallbacks\u001b[0m\u001b[1;33m.\u001b[0m\u001b[0mon_test_batch_begin\u001b[0m\u001b[1;33m(\u001b[0m\u001b[0mstep\u001b[0m\u001b[1;33m)\u001b[0m\u001b[1;33m\u001b[0m\u001b[1;33m\u001b[0m\u001b[0m\n\u001b[1;32m-> 1081\u001b[1;33m               \u001b[0mtmp_logs\u001b[0m \u001b[1;33m=\u001b[0m \u001b[0mtest_function\u001b[0m\u001b[1;33m(\u001b[0m\u001b[0miterator\u001b[0m\u001b[1;33m)\u001b[0m\u001b[1;33m\u001b[0m\u001b[1;33m\u001b[0m\u001b[0m\n\u001b[0m\u001b[0;32m   1082\u001b[0m               \u001b[1;31m# Catch OutOfRangeError for Datasets of unknown size.\u001b[0m\u001b[1;33m\u001b[0m\u001b[1;33m\u001b[0m\u001b[1;33m\u001b[0m\u001b[0m\n\u001b[0;32m   1083\u001b[0m               \u001b[1;31m# This blocks until the batch has finished executing.\u001b[0m\u001b[1;33m\u001b[0m\u001b[1;33m\u001b[0m\u001b[1;33m\u001b[0m\u001b[0m\n",
      "\u001b[1;32mc:\\users\\anuragreddy\\appdata\\local\\programs\\python\\python38\\lib\\site-packages\\tensorflow\\python\\eager\\def_function.py\u001b[0m in \u001b[0;36m__call__\u001b[1;34m(self, *args, **kwds)\u001b[0m\n\u001b[0;32m    578\u001b[0m         \u001b[0mxla_context\u001b[0m\u001b[1;33m.\u001b[0m\u001b[0mExit\u001b[0m\u001b[1;33m(\u001b[0m\u001b[1;33m)\u001b[0m\u001b[1;33m\u001b[0m\u001b[1;33m\u001b[0m\u001b[0m\n\u001b[0;32m    579\u001b[0m     \u001b[1;32melse\u001b[0m\u001b[1;33m:\u001b[0m\u001b[1;33m\u001b[0m\u001b[1;33m\u001b[0m\u001b[0m\n\u001b[1;32m--> 580\u001b[1;33m       \u001b[0mresult\u001b[0m \u001b[1;33m=\u001b[0m \u001b[0mself\u001b[0m\u001b[1;33m.\u001b[0m\u001b[0m_call\u001b[0m\u001b[1;33m(\u001b[0m\u001b[1;33m*\u001b[0m\u001b[0margs\u001b[0m\u001b[1;33m,\u001b[0m \u001b[1;33m**\u001b[0m\u001b[0mkwds\u001b[0m\u001b[1;33m)\u001b[0m\u001b[1;33m\u001b[0m\u001b[1;33m\u001b[0m\u001b[0m\n\u001b[0m\u001b[0;32m    581\u001b[0m \u001b[1;33m\u001b[0m\u001b[0m\n\u001b[0;32m    582\u001b[0m     \u001b[1;32mif\u001b[0m \u001b[0mtracing_count\u001b[0m \u001b[1;33m==\u001b[0m \u001b[0mself\u001b[0m\u001b[1;33m.\u001b[0m\u001b[0m_get_tracing_count\u001b[0m\u001b[1;33m(\u001b[0m\u001b[1;33m)\u001b[0m\u001b[1;33m:\u001b[0m\u001b[1;33m\u001b[0m\u001b[1;33m\u001b[0m\u001b[0m\n",
      "\u001b[1;32mc:\\users\\anuragreddy\\appdata\\local\\programs\\python\\python38\\lib\\site-packages\\tensorflow\\python\\eager\\def_function.py\u001b[0m in \u001b[0;36m_call\u001b[1;34m(self, *args, **kwds)\u001b[0m\n\u001b[0;32m    625\u001b[0m       \u001b[1;31m# This is the first call of __call__, so we have to initialize.\u001b[0m\u001b[1;33m\u001b[0m\u001b[1;33m\u001b[0m\u001b[1;33m\u001b[0m\u001b[0m\n\u001b[0;32m    626\u001b[0m       \u001b[0minitializers\u001b[0m \u001b[1;33m=\u001b[0m \u001b[1;33m[\u001b[0m\u001b[1;33m]\u001b[0m\u001b[1;33m\u001b[0m\u001b[1;33m\u001b[0m\u001b[0m\n\u001b[1;32m--> 627\u001b[1;33m       \u001b[0mself\u001b[0m\u001b[1;33m.\u001b[0m\u001b[0m_initialize\u001b[0m\u001b[1;33m(\u001b[0m\u001b[0margs\u001b[0m\u001b[1;33m,\u001b[0m \u001b[0mkwds\u001b[0m\u001b[1;33m,\u001b[0m \u001b[0madd_initializers_to\u001b[0m\u001b[1;33m=\u001b[0m\u001b[0minitializers\u001b[0m\u001b[1;33m)\u001b[0m\u001b[1;33m\u001b[0m\u001b[1;33m\u001b[0m\u001b[0m\n\u001b[0m\u001b[0;32m    628\u001b[0m     \u001b[1;32mfinally\u001b[0m\u001b[1;33m:\u001b[0m\u001b[1;33m\u001b[0m\u001b[1;33m\u001b[0m\u001b[0m\n\u001b[0;32m    629\u001b[0m       \u001b[1;31m# At this point we know that the initialization is complete (or less\u001b[0m\u001b[1;33m\u001b[0m\u001b[1;33m\u001b[0m\u001b[1;33m\u001b[0m\u001b[0m\n",
      "\u001b[1;32mc:\\users\\anuragreddy\\appdata\\local\\programs\\python\\python38\\lib\\site-packages\\tensorflow\\python\\eager\\def_function.py\u001b[0m in \u001b[0;36m_initialize\u001b[1;34m(self, args, kwds, add_initializers_to)\u001b[0m\n\u001b[0;32m    503\u001b[0m     \u001b[0mself\u001b[0m\u001b[1;33m.\u001b[0m\u001b[0m_graph_deleter\u001b[0m \u001b[1;33m=\u001b[0m \u001b[0mFunctionDeleter\u001b[0m\u001b[1;33m(\u001b[0m\u001b[0mself\u001b[0m\u001b[1;33m.\u001b[0m\u001b[0m_lifted_initializer_graph\u001b[0m\u001b[1;33m)\u001b[0m\u001b[1;33m\u001b[0m\u001b[1;33m\u001b[0m\u001b[0m\n\u001b[0;32m    504\u001b[0m     self._concrete_stateful_fn = (\n\u001b[1;32m--> 505\u001b[1;33m         self._stateful_fn._get_concrete_function_internal_garbage_collected(  # pylint: disable=protected-access\n\u001b[0m\u001b[0;32m    506\u001b[0m             *args, **kwds))\n\u001b[0;32m    507\u001b[0m \u001b[1;33m\u001b[0m\u001b[0m\n",
      "\u001b[1;32mc:\\users\\anuragreddy\\appdata\\local\\programs\\python\\python38\\lib\\site-packages\\tensorflow\\python\\eager\\function.py\u001b[0m in \u001b[0;36m_get_concrete_function_internal_garbage_collected\u001b[1;34m(self, *args, **kwargs)\u001b[0m\n\u001b[0;32m   2444\u001b[0m       \u001b[0margs\u001b[0m\u001b[1;33m,\u001b[0m \u001b[0mkwargs\u001b[0m \u001b[1;33m=\u001b[0m \u001b[1;32mNone\u001b[0m\u001b[1;33m,\u001b[0m \u001b[1;32mNone\u001b[0m\u001b[1;33m\u001b[0m\u001b[1;33m\u001b[0m\u001b[0m\n\u001b[0;32m   2445\u001b[0m     \u001b[1;32mwith\u001b[0m \u001b[0mself\u001b[0m\u001b[1;33m.\u001b[0m\u001b[0m_lock\u001b[0m\u001b[1;33m:\u001b[0m\u001b[1;33m\u001b[0m\u001b[1;33m\u001b[0m\u001b[0m\n\u001b[1;32m-> 2446\u001b[1;33m       \u001b[0mgraph_function\u001b[0m\u001b[1;33m,\u001b[0m \u001b[0m_\u001b[0m\u001b[1;33m,\u001b[0m \u001b[0m_\u001b[0m \u001b[1;33m=\u001b[0m \u001b[0mself\u001b[0m\u001b[1;33m.\u001b[0m\u001b[0m_maybe_define_function\u001b[0m\u001b[1;33m(\u001b[0m\u001b[0margs\u001b[0m\u001b[1;33m,\u001b[0m \u001b[0mkwargs\u001b[0m\u001b[1;33m)\u001b[0m\u001b[1;33m\u001b[0m\u001b[1;33m\u001b[0m\u001b[0m\n\u001b[0m\u001b[0;32m   2447\u001b[0m     \u001b[1;32mreturn\u001b[0m \u001b[0mgraph_function\u001b[0m\u001b[1;33m\u001b[0m\u001b[1;33m\u001b[0m\u001b[0m\n\u001b[0;32m   2448\u001b[0m \u001b[1;33m\u001b[0m\u001b[0m\n",
      "\u001b[1;32mc:\\users\\anuragreddy\\appdata\\local\\programs\\python\\python38\\lib\\site-packages\\tensorflow\\python\\eager\\function.py\u001b[0m in \u001b[0;36m_maybe_define_function\u001b[1;34m(self, args, kwargs)\u001b[0m\n\u001b[0;32m   2775\u001b[0m \u001b[1;33m\u001b[0m\u001b[0m\n\u001b[0;32m   2776\u001b[0m       \u001b[0mself\u001b[0m\u001b[1;33m.\u001b[0m\u001b[0m_function_cache\u001b[0m\u001b[1;33m.\u001b[0m\u001b[0mmissed\u001b[0m\u001b[1;33m.\u001b[0m\u001b[0madd\u001b[0m\u001b[1;33m(\u001b[0m\u001b[0mcall_context_key\u001b[0m\u001b[1;33m)\u001b[0m\u001b[1;33m\u001b[0m\u001b[1;33m\u001b[0m\u001b[0m\n\u001b[1;32m-> 2777\u001b[1;33m       \u001b[0mgraph_function\u001b[0m \u001b[1;33m=\u001b[0m \u001b[0mself\u001b[0m\u001b[1;33m.\u001b[0m\u001b[0m_create_graph_function\u001b[0m\u001b[1;33m(\u001b[0m\u001b[0margs\u001b[0m\u001b[1;33m,\u001b[0m \u001b[0mkwargs\u001b[0m\u001b[1;33m)\u001b[0m\u001b[1;33m\u001b[0m\u001b[1;33m\u001b[0m\u001b[0m\n\u001b[0m\u001b[0;32m   2778\u001b[0m       \u001b[0mself\u001b[0m\u001b[1;33m.\u001b[0m\u001b[0m_function_cache\u001b[0m\u001b[1;33m.\u001b[0m\u001b[0mprimary\u001b[0m\u001b[1;33m[\u001b[0m\u001b[0mcache_key\u001b[0m\u001b[1;33m]\u001b[0m \u001b[1;33m=\u001b[0m \u001b[0mgraph_function\u001b[0m\u001b[1;33m\u001b[0m\u001b[1;33m\u001b[0m\u001b[0m\n\u001b[0;32m   2779\u001b[0m       \u001b[1;32mreturn\u001b[0m \u001b[0mgraph_function\u001b[0m\u001b[1;33m,\u001b[0m \u001b[0margs\u001b[0m\u001b[1;33m,\u001b[0m \u001b[0mkwargs\u001b[0m\u001b[1;33m\u001b[0m\u001b[1;33m\u001b[0m\u001b[0m\n",
      "\u001b[1;32mc:\\users\\anuragreddy\\appdata\\local\\programs\\python\\python38\\lib\\site-packages\\tensorflow\\python\\eager\\function.py\u001b[0m in \u001b[0;36m_create_graph_function\u001b[1;34m(self, args, kwargs, override_flat_arg_shapes)\u001b[0m\n\u001b[0;32m   2655\u001b[0m     \u001b[0marg_names\u001b[0m \u001b[1;33m=\u001b[0m \u001b[0mbase_arg_names\u001b[0m \u001b[1;33m+\u001b[0m \u001b[0mmissing_arg_names\u001b[0m\u001b[1;33m\u001b[0m\u001b[1;33m\u001b[0m\u001b[0m\n\u001b[0;32m   2656\u001b[0m     graph_function = ConcreteFunction(\n\u001b[1;32m-> 2657\u001b[1;33m         func_graph_module.func_graph_from_py_func(\n\u001b[0m\u001b[0;32m   2658\u001b[0m             \u001b[0mself\u001b[0m\u001b[1;33m.\u001b[0m\u001b[0m_name\u001b[0m\u001b[1;33m,\u001b[0m\u001b[1;33m\u001b[0m\u001b[1;33m\u001b[0m\u001b[0m\n\u001b[0;32m   2659\u001b[0m             \u001b[0mself\u001b[0m\u001b[1;33m.\u001b[0m\u001b[0m_python_function\u001b[0m\u001b[1;33m,\u001b[0m\u001b[1;33m\u001b[0m\u001b[1;33m\u001b[0m\u001b[0m\n",
      "\u001b[1;32mc:\\users\\anuragreddy\\appdata\\local\\programs\\python\\python38\\lib\\site-packages\\tensorflow\\python\\framework\\func_graph.py\u001b[0m in \u001b[0;36mfunc_graph_from_py_func\u001b[1;34m(name, python_func, args, kwargs, signature, func_graph, autograph, autograph_options, add_control_dependencies, arg_names, op_return_value, collections, capture_by_value, override_flat_arg_shapes)\u001b[0m\n\u001b[0;32m    979\u001b[0m         \u001b[0m_\u001b[0m\u001b[1;33m,\u001b[0m \u001b[0moriginal_func\u001b[0m \u001b[1;33m=\u001b[0m \u001b[0mtf_decorator\u001b[0m\u001b[1;33m.\u001b[0m\u001b[0munwrap\u001b[0m\u001b[1;33m(\u001b[0m\u001b[0mpython_func\u001b[0m\u001b[1;33m)\u001b[0m\u001b[1;33m\u001b[0m\u001b[1;33m\u001b[0m\u001b[0m\n\u001b[0;32m    980\u001b[0m \u001b[1;33m\u001b[0m\u001b[0m\n\u001b[1;32m--> 981\u001b[1;33m       \u001b[0mfunc_outputs\u001b[0m \u001b[1;33m=\u001b[0m \u001b[0mpython_func\u001b[0m\u001b[1;33m(\u001b[0m\u001b[1;33m*\u001b[0m\u001b[0mfunc_args\u001b[0m\u001b[1;33m,\u001b[0m \u001b[1;33m**\u001b[0m\u001b[0mfunc_kwargs\u001b[0m\u001b[1;33m)\u001b[0m\u001b[1;33m\u001b[0m\u001b[1;33m\u001b[0m\u001b[0m\n\u001b[0m\u001b[0;32m    982\u001b[0m \u001b[1;33m\u001b[0m\u001b[0m\n\u001b[0;32m    983\u001b[0m       \u001b[1;31m# invariant: `func_outputs` contains only Tensors, CompositeTensors,\u001b[0m\u001b[1;33m\u001b[0m\u001b[1;33m\u001b[0m\u001b[1;33m\u001b[0m\u001b[0m\n",
      "\u001b[1;32mc:\\users\\anuragreddy\\appdata\\local\\programs\\python\\python38\\lib\\site-packages\\tensorflow\\python\\eager\\def_function.py\u001b[0m in \u001b[0;36mwrapped_fn\u001b[1;34m(*args, **kwds)\u001b[0m\n\u001b[0;32m    439\u001b[0m         \u001b[1;31m# __wrapped__ allows AutoGraph to swap in a converted function. We give\u001b[0m\u001b[1;33m\u001b[0m\u001b[1;33m\u001b[0m\u001b[1;33m\u001b[0m\u001b[0m\n\u001b[0;32m    440\u001b[0m         \u001b[1;31m# the function a weak reference to itself to avoid a reference cycle.\u001b[0m\u001b[1;33m\u001b[0m\u001b[1;33m\u001b[0m\u001b[1;33m\u001b[0m\u001b[0m\n\u001b[1;32m--> 441\u001b[1;33m         \u001b[1;32mreturn\u001b[0m \u001b[0mweak_wrapped_fn\u001b[0m\u001b[1;33m(\u001b[0m\u001b[1;33m)\u001b[0m\u001b[1;33m.\u001b[0m\u001b[0m__wrapped__\u001b[0m\u001b[1;33m(\u001b[0m\u001b[1;33m*\u001b[0m\u001b[0margs\u001b[0m\u001b[1;33m,\u001b[0m \u001b[1;33m**\u001b[0m\u001b[0mkwds\u001b[0m\u001b[1;33m)\u001b[0m\u001b[1;33m\u001b[0m\u001b[1;33m\u001b[0m\u001b[0m\n\u001b[0m\u001b[0;32m    442\u001b[0m     \u001b[0mweak_wrapped_fn\u001b[0m \u001b[1;33m=\u001b[0m \u001b[0mweakref\u001b[0m\u001b[1;33m.\u001b[0m\u001b[0mref\u001b[0m\u001b[1;33m(\u001b[0m\u001b[0mwrapped_fn\u001b[0m\u001b[1;33m)\u001b[0m\u001b[1;33m\u001b[0m\u001b[1;33m\u001b[0m\u001b[0m\n\u001b[0;32m    443\u001b[0m \u001b[1;33m\u001b[0m\u001b[0m\n",
      "\u001b[1;32mc:\\users\\anuragreddy\\appdata\\local\\programs\\python\\python38\\lib\\site-packages\\tensorflow\\python\\framework\\func_graph.py\u001b[0m in \u001b[0;36mwrapper\u001b[1;34m(*args, **kwargs)\u001b[0m\n\u001b[0;32m    966\u001b[0m           \u001b[1;32mexcept\u001b[0m \u001b[0mException\u001b[0m \u001b[1;32mas\u001b[0m \u001b[0me\u001b[0m\u001b[1;33m:\u001b[0m  \u001b[1;31m# pylint:disable=broad-except\u001b[0m\u001b[1;33m\u001b[0m\u001b[1;33m\u001b[0m\u001b[0m\n\u001b[0;32m    967\u001b[0m             \u001b[1;32mif\u001b[0m \u001b[0mhasattr\u001b[0m\u001b[1;33m(\u001b[0m\u001b[0me\u001b[0m\u001b[1;33m,\u001b[0m \u001b[1;34m\"ag_error_metadata\"\u001b[0m\u001b[1;33m)\u001b[0m\u001b[1;33m:\u001b[0m\u001b[1;33m\u001b[0m\u001b[1;33m\u001b[0m\u001b[0m\n\u001b[1;32m--> 968\u001b[1;33m               \u001b[1;32mraise\u001b[0m \u001b[0me\u001b[0m\u001b[1;33m.\u001b[0m\u001b[0mag_error_metadata\u001b[0m\u001b[1;33m.\u001b[0m\u001b[0mto_exception\u001b[0m\u001b[1;33m(\u001b[0m\u001b[0me\u001b[0m\u001b[1;33m)\u001b[0m\u001b[1;33m\u001b[0m\u001b[1;33m\u001b[0m\u001b[0m\n\u001b[0m\u001b[0;32m    969\u001b[0m             \u001b[1;32melse\u001b[0m\u001b[1;33m:\u001b[0m\u001b[1;33m\u001b[0m\u001b[1;33m\u001b[0m\u001b[0m\n\u001b[0;32m    970\u001b[0m               \u001b[1;32mraise\u001b[0m\u001b[1;33m\u001b[0m\u001b[1;33m\u001b[0m\u001b[0m\n",
      "\u001b[1;31mValueError\u001b[0m: in user code:\n\n    c:\\users\\anuragreddy\\appdata\\local\\programs\\python\\python38\\lib\\site-packages\\tensorflow\\python\\keras\\engine\\training.py:941 test_function  *\n        outputs = self.distribute_strategy.run(\n    c:\\users\\anuragreddy\\appdata\\local\\programs\\python\\python38\\lib\\site-packages\\tensorflow\\python\\distribute\\distribute_lib.py:951 run  **\n        return self._extended.call_for_each_replica(fn, args=args, kwargs=kwargs)\n    c:\\users\\anuragreddy\\appdata\\local\\programs\\python\\python38\\lib\\site-packages\\tensorflow\\python\\distribute\\distribute_lib.py:2290 call_for_each_replica\n        return self._call_for_each_replica(fn, args, kwargs)\n    c:\\users\\anuragreddy\\appdata\\local\\programs\\python\\python38\\lib\\site-packages\\tensorflow\\python\\distribute\\distribute_lib.py:2649 _call_for_each_replica\n        return fn(*args, **kwargs)\n    c:\\users\\anuragreddy\\appdata\\local\\programs\\python\\python38\\lib\\site-packages\\tensorflow\\python\\keras\\engine\\training.py:909 test_step  **\n        y_pred = self(x, training=False)\n    c:\\users\\anuragreddy\\appdata\\local\\programs\\python\\python38\\lib\\site-packages\\tensorflow\\python\\keras\\engine\\base_layer.py:885 __call__\n        input_spec.assert_input_compatibility(self.input_spec, inputs,\n    c:\\users\\anuragreddy\\appdata\\local\\programs\\python\\python38\\lib\\site-packages\\tensorflow\\python\\keras\\engine\\input_spec.py:176 assert_input_compatibility\n        raise ValueError('Input ' + str(input_index) + ' of layer ' +\n\n    ValueError: Input 0 of layer sequential is incompatible with the layer: expected ndim=3, found ndim=2. Full shape received: [None, 9]\n"
     ]
    }
   ],
   "source": [
    "model3.compile(loss='binary_crossentropy',optimizer='adam',metrics=['accuracy'])\n",
    "model3.fit(X_train,y_train,batch_size=8,epochs=20,callbacks=callbacks,validation_data=(X_test,y_test))"
   ]
  },
  {
   "cell_type": "code",
   "execution_count": null,
   "metadata": {},
   "outputs": [],
   "source": []
  },
  {
   "cell_type": "code",
   "execution_count": null,
   "metadata": {},
   "outputs": [],
   "source": []
  },
  {
   "cell_type": "code",
   "execution_count": null,
   "metadata": {},
   "outputs": [],
   "source": []
  }
 ],
 "metadata": {
  "accelerator": "GPU",
  "colab": {
   "collapsed_sections": [],
   "name": "MLP and ML models.ipynb",
   "provenance": []
  },
  "kernelspec": {
   "display_name": "Python 3",
   "language": "python",
   "name": "python3"
  },
  "language_info": {
   "codemirror_mode": {
    "name": "ipython",
    "version": 3
   },
   "file_extension": ".py",
   "mimetype": "text/x-python",
   "name": "python",
   "nbconvert_exporter": "python",
   "pygments_lexer": "ipython3",
   "version": "3.8.3"
  }
 },
 "nbformat": 4,
 "nbformat_minor": 1
}
